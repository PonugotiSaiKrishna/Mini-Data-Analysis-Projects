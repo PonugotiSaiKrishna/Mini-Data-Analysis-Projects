{
 "cells": [
  {
   "cell_type": "markdown",
   "id": "5d1be414-3854-476a-be1d-010aae41e621",
   "metadata": {},
   "source": [
    "**Customers & Orders**"
   ]
  },
  {
   "cell_type": "markdown",
   "id": "0c4e7ec9-40b4-46db-aec3-1d19f91d641e",
   "metadata": {},
   "source": [
    "*How many unique customers are in the dataset?*"
   ]
  },
  {
   "cell_type": "code",
   "execution_count": 8,
   "id": "671f6c3d-23e7-4582-93f9-8319b0157bc3",
   "metadata": {},
   "outputs": [],
   "source": [
    "import pandas as pd"
   ]
  },
  {
   "cell_type": "code",
   "execution_count": 10,
   "id": "a5319e78-1a7b-4ca6-8ba1-1c448ef2e0c6",
   "metadata": {},
   "outputs": [],
   "source": [
    "customers = pd.read_csv(r'C:\\Users\\vrssv\\Desktop\\Project (Mine)\\Chatgpt\\Customers.csv')"
   ]
  },
  {
   "cell_type": "code",
   "execution_count": 26,
   "id": "4f7fd0c6-41cd-457e-b6e8-77feeefa170d",
   "metadata": {},
   "outputs": [
    {
     "data": {
      "text/html": [
       "<div>\n",
       "<style scoped>\n",
       "    .dataframe tbody tr th:only-of-type {\n",
       "        vertical-align: middle;\n",
       "    }\n",
       "\n",
       "    .dataframe tbody tr th {\n",
       "        vertical-align: top;\n",
       "    }\n",
       "\n",
       "    .dataframe thead th {\n",
       "        text-align: right;\n",
       "    }\n",
       "</style>\n",
       "<table border=\"1\" class=\"dataframe\">\n",
       "  <thead>\n",
       "    <tr style=\"text-align: right;\">\n",
       "      <th></th>\n",
       "      <th>CustomerID</th>\n",
       "      <th>Name</th>\n",
       "      <th>Location</th>\n",
       "      <th>Segment</th>\n",
       "    </tr>\n",
       "  </thead>\n",
       "  <tbody>\n",
       "    <tr>\n",
       "      <th>0</th>\n",
       "      <td>1001</td>\n",
       "      <td>Customer_0</td>\n",
       "      <td>East</td>\n",
       "      <td>Home Office</td>\n",
       "    </tr>\n",
       "    <tr>\n",
       "      <th>1</th>\n",
       "      <td>1002</td>\n",
       "      <td>Customer_1</td>\n",
       "      <td>West</td>\n",
       "      <td>Home Office</td>\n",
       "    </tr>\n",
       "    <tr>\n",
       "      <th>2</th>\n",
       "      <td>1003</td>\n",
       "      <td>Customer_2</td>\n",
       "      <td>North</td>\n",
       "      <td>Consumer</td>\n",
       "    </tr>\n",
       "    <tr>\n",
       "      <th>3</th>\n",
       "      <td>1004</td>\n",
       "      <td>Customer_3</td>\n",
       "      <td>East</td>\n",
       "      <td>Consumer</td>\n",
       "    </tr>\n",
       "    <tr>\n",
       "      <th>4</th>\n",
       "      <td>1005</td>\n",
       "      <td>Customer_4</td>\n",
       "      <td>East</td>\n",
       "      <td>Corporate</td>\n",
       "    </tr>\n",
       "  </tbody>\n",
       "</table>\n",
       "</div>"
      ],
      "text/plain": [
       "   CustomerID        Name Location      Segment\n",
       "0        1001  Customer_0     East  Home Office\n",
       "1        1002  Customer_1     West  Home Office\n",
       "2        1003  Customer_2    North     Consumer\n",
       "3        1004  Customer_3     East     Consumer\n",
       "4        1005  Customer_4     East    Corporate"
      ]
     },
     "execution_count": 26,
     "metadata": {},
     "output_type": "execute_result"
    }
   ],
   "source": [
    "customers.head()"
   ]
  },
  {
   "cell_type": "code",
   "execution_count": 28,
   "id": "4734e3d6-3db0-4c32-b82f-55904e2758c5",
   "metadata": {},
   "outputs": [
    {
     "data": {
      "text/plain": [
       "200"
      ]
     },
     "execution_count": 28,
     "metadata": {},
     "output_type": "execute_result"
    }
   ],
   "source": [
    "unique_customers_count = customers['CustomerID'].nunique()\n",
    "unique_customers_count"
   ]
  },
  {
   "cell_type": "markdown",
   "id": "97f54683-3480-42c1-b56c-84ee6c180c07",
   "metadata": {},
   "source": [
    "*Which customer made the highest total purchase (SalesAmount)?*"
   ]
  },
  {
   "cell_type": "code",
   "execution_count": 31,
   "id": "82669ebf-ef30-454f-a986-edf494091a90",
   "metadata": {},
   "outputs": [],
   "source": [
    "orders = pd.read_csv(r'C:\\Users\\vrssv\\Desktop\\Project (Mine)\\Chatgpt\\Orders.csv')"
   ]
  },
  {
   "cell_type": "code",
   "execution_count": 33,
   "id": "5f15dc6e-c7c4-4889-a483-31d47a8f12e0",
   "metadata": {},
   "outputs": [
    {
     "data": {
      "text/html": [
       "<div>\n",
       "<style scoped>\n",
       "    .dataframe tbody tr th:only-of-type {\n",
       "        vertical-align: middle;\n",
       "    }\n",
       "\n",
       "    .dataframe tbody tr th {\n",
       "        vertical-align: top;\n",
       "    }\n",
       "\n",
       "    .dataframe thead th {\n",
       "        text-align: right;\n",
       "    }\n",
       "</style>\n",
       "<table border=\"1\" class=\"dataframe\">\n",
       "  <thead>\n",
       "    <tr style=\"text-align: right;\">\n",
       "      <th></th>\n",
       "      <th>OrderID</th>\n",
       "      <th>CustomerID</th>\n",
       "      <th>OrderDate</th>\n",
       "      <th>ProductID</th>\n",
       "      <th>Quantity</th>\n",
       "      <th>SalesAmount</th>\n",
       "    </tr>\n",
       "  </thead>\n",
       "  <tbody>\n",
       "    <tr>\n",
       "      <th>0</th>\n",
       "      <td>2001</td>\n",
       "      <td>1035</td>\n",
       "      <td>2023-02-16</td>\n",
       "      <td>539</td>\n",
       "      <td>2</td>\n",
       "      <td>412.64</td>\n",
       "    </tr>\n",
       "    <tr>\n",
       "      <th>1</th>\n",
       "      <td>2002</td>\n",
       "      <td>1081</td>\n",
       "      <td>2023-10-15</td>\n",
       "      <td>540</td>\n",
       "      <td>3</td>\n",
       "      <td>986.34</td>\n",
       "    </tr>\n",
       "    <tr>\n",
       "      <th>2</th>\n",
       "      <td>2003</td>\n",
       "      <td>1090</td>\n",
       "      <td>2023-09-23</td>\n",
       "      <td>517</td>\n",
       "      <td>3</td>\n",
       "      <td>742.80</td>\n",
       "    </tr>\n",
       "    <tr>\n",
       "      <th>3</th>\n",
       "      <td>2004</td>\n",
       "      <td>1008</td>\n",
       "      <td>2023-01-16</td>\n",
       "      <td>537</td>\n",
       "      <td>9</td>\n",
       "      <td>4241.79</td>\n",
       "    </tr>\n",
       "    <tr>\n",
       "      <th>4</th>\n",
       "      <td>2005</td>\n",
       "      <td>1093</td>\n",
       "      <td>2023-07-18</td>\n",
       "      <td>539</td>\n",
       "      <td>7</td>\n",
       "      <td>1444.24</td>\n",
       "    </tr>\n",
       "  </tbody>\n",
       "</table>\n",
       "</div>"
      ],
      "text/plain": [
       "   OrderID  CustomerID   OrderDate  ProductID  Quantity  SalesAmount\n",
       "0     2001        1035  2023-02-16        539         2       412.64\n",
       "1     2002        1081  2023-10-15        540         3       986.34\n",
       "2     2003        1090  2023-09-23        517         3       742.80\n",
       "3     2004        1008  2023-01-16        537         9      4241.79\n",
       "4     2005        1093  2023-07-18        539         7      1444.24"
      ]
     },
     "execution_count": 33,
     "metadata": {},
     "output_type": "execute_result"
    }
   ],
   "source": [
    "orders.head()"
   ]
  },
  {
   "cell_type": "code",
   "execution_count": 37,
   "id": "aea3c926-5a39-4b77-b873-5e71a5d8a8c6",
   "metadata": {},
   "outputs": [],
   "source": [
    "top_customer = orders.groupby('CustomerID')['SalesAmount'].sum().idxmax() #\n",
    "top_customer_total = orders.groupby('CustomerID')['SalesAmount'].sum().max()\n",
    "top_customer_name = customers.loc[customers['CustomerID'] == top_customer, 'Name'].values[0]"
   ]
  },
  {
   "cell_type": "code",
   "execution_count": 39,
   "id": "ff7d757e-4377-4a75-acc9-e3db20334615",
   "metadata": {},
   "outputs": [
    {
     "data": {
      "text/plain": [
       "1109"
      ]
     },
     "execution_count": 39,
     "metadata": {},
     "output_type": "execute_result"
    }
   ],
   "source": [
    "top_customer"
   ]
  },
  {
   "cell_type": "code",
   "execution_count": 41,
   "id": "003f9c9a-2990-4bc7-9bdf-5f30b28af9ca",
   "metadata": {},
   "outputs": [
    {
     "data": {
      "text/plain": [
       "'Customer_108'"
      ]
     },
     "execution_count": 41,
     "metadata": {},
     "output_type": "execute_result"
    }
   ],
   "source": [
    "top_customer_name"
   ]
  },
  {
   "cell_type": "code",
   "execution_count": 43,
   "id": "aee2c383-20bc-4d8a-aedb-780dfb6f86cd",
   "metadata": {},
   "outputs": [
    {
     "data": {
      "text/plain": [
       "19874.17"
      ]
     },
     "execution_count": 43,
     "metadata": {},
     "output_type": "execute_result"
    }
   ],
   "source": [
    "top_customer_total"
   ]
  },
  {
   "cell_type": "markdown",
   "id": "5fb875f6-38a1-4b90-b100-50e649f62817",
   "metadata": {},
   "source": [
    "*What is the average order quantity per product category?*"
   ]
  },
  {
   "cell_type": "code",
   "execution_count": 45,
   "id": "0f436c66-72ec-4496-b694-9674d05a5086",
   "metadata": {},
   "outputs": [],
   "source": [
    "products = pd.read_csv(r'C:\\Users\\vrssv\\Desktop\\Project (Mine)\\Chatgpt\\Products.csv')"
   ]
  },
  {
   "cell_type": "code",
   "execution_count": 47,
   "id": "40557869-b830-4005-8267-e404fb9d5116",
   "metadata": {},
   "outputs": [
    {
     "data": {
      "text/html": [
       "<div>\n",
       "<style scoped>\n",
       "    .dataframe tbody tr th:only-of-type {\n",
       "        vertical-align: middle;\n",
       "    }\n",
       "\n",
       "    .dataframe tbody tr th {\n",
       "        vertical-align: top;\n",
       "    }\n",
       "\n",
       "    .dataframe thead th {\n",
       "        text-align: right;\n",
       "    }\n",
       "</style>\n",
       "<table border=\"1\" class=\"dataframe\">\n",
       "  <thead>\n",
       "    <tr style=\"text-align: right;\">\n",
       "      <th></th>\n",
       "      <th>ProductID</th>\n",
       "      <th>Category</th>\n",
       "      <th>Subcategory</th>\n",
       "      <th>Price</th>\n",
       "    </tr>\n",
       "  </thead>\n",
       "  <tbody>\n",
       "    <tr>\n",
       "      <th>0</th>\n",
       "      <td>501</td>\n",
       "      <td>Furniture</td>\n",
       "      <td>Accessories</td>\n",
       "      <td>336.89</td>\n",
       "    </tr>\n",
       "    <tr>\n",
       "      <th>1</th>\n",
       "      <td>502</td>\n",
       "      <td>Office Supplies</td>\n",
       "      <td>Phones</td>\n",
       "      <td>154.37</td>\n",
       "    </tr>\n",
       "    <tr>\n",
       "      <th>2</th>\n",
       "      <td>503</td>\n",
       "      <td>Furniture</td>\n",
       "      <td>Accessories</td>\n",
       "      <td>478.34</td>\n",
       "    </tr>\n",
       "    <tr>\n",
       "      <th>3</th>\n",
       "      <td>504</td>\n",
       "      <td>Technology</td>\n",
       "      <td>Binders</td>\n",
       "      <td>374.19</td>\n",
       "    </tr>\n",
       "    <tr>\n",
       "      <th>4</th>\n",
       "      <td>505</td>\n",
       "      <td>Technology</td>\n",
       "      <td>Binders</td>\n",
       "      <td>286.09</td>\n",
       "    </tr>\n",
       "  </tbody>\n",
       "</table>\n",
       "</div>"
      ],
      "text/plain": [
       "   ProductID         Category  Subcategory   Price\n",
       "0        501        Furniture  Accessories  336.89\n",
       "1        502  Office Supplies       Phones  154.37\n",
       "2        503        Furniture  Accessories  478.34\n",
       "3        504       Technology      Binders  374.19\n",
       "4        505       Technology      Binders  286.09"
      ]
     },
     "execution_count": 47,
     "metadata": {},
     "output_type": "execute_result"
    }
   ],
   "source": [
    "products.head()"
   ]
  },
  {
   "cell_type": "code",
   "execution_count": 50,
   "id": "71152268-6be1-4e83-ad9e-70953bcc3bf4",
   "metadata": {},
   "outputs": [
    {
     "data": {
      "text/plain": [
       "Category\n",
       "Furniture          5.04\n",
       "Office Supplies    4.72\n",
       "Technology         5.08\n",
       "Name: Quantity, dtype: float64"
      ]
     },
     "execution_count": 50,
     "metadata": {},
     "output_type": "execute_result"
    }
   ],
   "source": [
    "order_with_category = orders.merge(products[['ProductID','Category']], on='ProductID')\n",
    "avg_quantity_per_category = order_with_category.groupby('Category')['Quantity'].mean().round(2)\n",
    "avg_quantity_per_category"
   ]
  },
  {
   "cell_type": "markdown",
   "id": "4adf87be-ebf1-4ed0-8994-9badc5320b09",
   "metadata": {},
   "source": [
    "These values indicate that Technology products have the highest average quantity per order, closely followed by Furniture"
   ]
  },
  {
   "cell_type": "markdown",
   "id": "0db9b555-e4ee-4ecd-9d40-ed7a5b6adf28",
   "metadata": {},
   "source": [
    "**Which region has the most customers?**"
   ]
  },
  {
   "cell_type": "code",
   "execution_count": 56,
   "id": "ba10821f-35e1-48d8-ad5a-99e737e342fc",
   "metadata": {},
   "outputs": [],
   "source": [
    "customer_by_region = customers['Location'].value_counts()\n",
    "top_region = customer_by_region.idxmax()\n",
    "top_region_count = customer_by_region.max()"
   ]
  },
  {
   "cell_type": "code",
   "execution_count": 58,
   "id": "a845faf9-8885-4984-8098-a39dd884efd9",
   "metadata": {},
   "outputs": [
    {
     "data": {
      "text/plain": [
       "'East'"
      ]
     },
     "execution_count": 58,
     "metadata": {},
     "output_type": "execute_result"
    }
   ],
   "source": [
    "top_region"
   ]
  },
  {
   "cell_type": "code",
   "execution_count": 60,
   "id": "99077aff-879f-4a8d-8198-19d8eee37c25",
   "metadata": {},
   "outputs": [
    {
     "data": {
      "text/plain": [
       "54"
      ]
     },
     "execution_count": 60,
     "metadata": {},
     "output_type": "execute_result"
    }
   ],
   "source": [
    "top_region_count"
   ]
  },
  {
   "cell_type": "markdown",
   "id": "da9bf538-efea-468f-86c2-36241273681a",
   "metadata": {},
   "source": [
    "The region with the most customers is East, with 54 customers"
   ]
  },
  {
   "cell_type": "code",
   "execution_count": null,
   "id": "a22f8449-df0c-4c7e-a82c-730c431a7708",
   "metadata": {},
   "outputs": [],
   "source": []
  },
  {
   "cell_type": "code",
   "execution_count": null,
   "id": "b0c3c802-f8db-4f7a-9e76-aa924defe148",
   "metadata": {},
   "outputs": [],
   "source": []
  },
  {
   "cell_type": "code",
   "execution_count": null,
   "id": "ba48b645-8f86-4b0a-842b-ded691d6d973",
   "metadata": {},
   "outputs": [],
   "source": []
  },
  {
   "cell_type": "code",
   "execution_count": null,
   "id": "5e1b60ad-fa90-4b6e-9c8f-392f89d1df0b",
   "metadata": {},
   "outputs": [],
   "source": []
  },
  {
   "cell_type": "code",
   "execution_count": null,
   "id": "7c03c890-6dea-4f30-af99-16f19c32de7f",
   "metadata": {},
   "outputs": [],
   "source": []
  },
  {
   "cell_type": "code",
   "execution_count": null,
   "id": "371eba1d-9c0f-4cc9-a1f1-3a53d577c46b",
   "metadata": {},
   "outputs": [],
   "source": []
  },
  {
   "cell_type": "code",
   "execution_count": null,
   "id": "a3ef5b8f-dbbf-493c-979f-25d42d867072",
   "metadata": {},
   "outputs": [],
   "source": []
  },
  {
   "cell_type": "code",
   "execution_count": null,
   "id": "82602bed-92f6-4d7f-b3b0-6dced31ff34f",
   "metadata": {},
   "outputs": [],
   "source": []
  }
 ],
 "metadata": {
  "kernelspec": {
   "display_name": "Python 3 (ipykernel)",
   "language": "python",
   "name": "python3"
  },
  "language_info": {
   "codemirror_mode": {
    "name": "ipython",
    "version": 3
   },
   "file_extension": ".py",
   "mimetype": "text/x-python",
   "name": "python",
   "nbconvert_exporter": "python",
   "pygments_lexer": "ipython3",
   "version": "3.12.7"
  }
 },
 "nbformat": 4,
 "nbformat_minor": 5
}
