{
 "cells": [
  {
   "cell_type": "markdown",
   "id": "5d1be414-3854-476a-be1d-010aae41e621",
   "metadata": {},
   "source": [
    "**Customers & Orders**"
   ]
  },
  {
   "cell_type": "markdown",
   "id": "0c4e7ec9-40b4-46db-aec3-1d19f91d641e",
   "metadata": {},
   "source": [
    "*How many unique customers are in the dataset?*"
   ]
  },
  {
   "cell_type": "code",
   "execution_count": 3,
   "id": "671f6c3d-23e7-4582-93f9-8319b0157bc3",
   "metadata": {},
   "outputs": [],
   "source": [
    "import pandas as pd"
   ]
  },
  {
   "cell_type": "code",
   "execution_count": 4,
   "id": "a5319e78-1a7b-4ca6-8ba1-1c448ef2e0c6",
   "metadata": {},
   "outputs": [],
   "source": [
    "customers = pd.read_csv(r'C:\\Users\\vrssv\\Desktop\\Project (Mine)\\Chatgpt\\Customers.csv')"
   ]
  },
  {
   "cell_type": "code",
   "execution_count": 5,
   "id": "4f7fd0c6-41cd-457e-b6e8-77feeefa170d",
   "metadata": {},
   "outputs": [
    {
     "data": {
      "text/html": [
       "<div>\n",
       "<style scoped>\n",
       "    .dataframe tbody tr th:only-of-type {\n",
       "        vertical-align: middle;\n",
       "    }\n",
       "\n",
       "    .dataframe tbody tr th {\n",
       "        vertical-align: top;\n",
       "    }\n",
       "\n",
       "    .dataframe thead th {\n",
       "        text-align: right;\n",
       "    }\n",
       "</style>\n",
       "<table border=\"1\" class=\"dataframe\">\n",
       "  <thead>\n",
       "    <tr style=\"text-align: right;\">\n",
       "      <th></th>\n",
       "      <th>CustomerID</th>\n",
       "      <th>Name</th>\n",
       "      <th>Location</th>\n",
       "      <th>Segment</th>\n",
       "    </tr>\n",
       "  </thead>\n",
       "  <tbody>\n",
       "    <tr>\n",
       "      <th>0</th>\n",
       "      <td>1001</td>\n",
       "      <td>Customer_0</td>\n",
       "      <td>East</td>\n",
       "      <td>Home Office</td>\n",
       "    </tr>\n",
       "    <tr>\n",
       "      <th>1</th>\n",
       "      <td>1002</td>\n",
       "      <td>Customer_1</td>\n",
       "      <td>West</td>\n",
       "      <td>Home Office</td>\n",
       "    </tr>\n",
       "    <tr>\n",
       "      <th>2</th>\n",
       "      <td>1003</td>\n",
       "      <td>Customer_2</td>\n",
       "      <td>North</td>\n",
       "      <td>Consumer</td>\n",
       "    </tr>\n",
       "    <tr>\n",
       "      <th>3</th>\n",
       "      <td>1004</td>\n",
       "      <td>Customer_3</td>\n",
       "      <td>East</td>\n",
       "      <td>Consumer</td>\n",
       "    </tr>\n",
       "    <tr>\n",
       "      <th>4</th>\n",
       "      <td>1005</td>\n",
       "      <td>Customer_4</td>\n",
       "      <td>East</td>\n",
       "      <td>Corporate</td>\n",
       "    </tr>\n",
       "  </tbody>\n",
       "</table>\n",
       "</div>"
      ],
      "text/plain": [
       "   CustomerID        Name Location      Segment\n",
       "0        1001  Customer_0     East  Home Office\n",
       "1        1002  Customer_1     West  Home Office\n",
       "2        1003  Customer_2    North     Consumer\n",
       "3        1004  Customer_3     East     Consumer\n",
       "4        1005  Customer_4     East    Corporate"
      ]
     },
     "execution_count": 5,
     "metadata": {},
     "output_type": "execute_result"
    }
   ],
   "source": [
    "customers.head()"
   ]
  },
  {
   "cell_type": "code",
   "execution_count": 6,
   "id": "4734e3d6-3db0-4c32-b82f-55904e2758c5",
   "metadata": {},
   "outputs": [
    {
     "data": {
      "text/plain": [
       "200"
      ]
     },
     "execution_count": 6,
     "metadata": {},
     "output_type": "execute_result"
    }
   ],
   "source": [
    "unique_customers_count = customers['CustomerID'].nunique()\n",
    "unique_customers_count"
   ]
  },
  {
   "cell_type": "markdown",
   "id": "97f54683-3480-42c1-b56c-84ee6c180c07",
   "metadata": {},
   "source": [
    "*Which customer made the highest total purchase (SalesAmount)?*"
   ]
  },
  {
   "cell_type": "code",
   "execution_count": 8,
   "id": "82669ebf-ef30-454f-a986-edf494091a90",
   "metadata": {},
   "outputs": [],
   "source": [
    "orders = pd.read_csv(r'C:\\Users\\vrssv\\Desktop\\Project (Mine)\\Chatgpt\\Orders.csv')"
   ]
  },
  {
   "cell_type": "code",
   "execution_count": 9,
   "id": "5f15dc6e-c7c4-4889-a483-31d47a8f12e0",
   "metadata": {},
   "outputs": [
    {
     "data": {
      "text/html": [
       "<div>\n",
       "<style scoped>\n",
       "    .dataframe tbody tr th:only-of-type {\n",
       "        vertical-align: middle;\n",
       "    }\n",
       "\n",
       "    .dataframe tbody tr th {\n",
       "        vertical-align: top;\n",
       "    }\n",
       "\n",
       "    .dataframe thead th {\n",
       "        text-align: right;\n",
       "    }\n",
       "</style>\n",
       "<table border=\"1\" class=\"dataframe\">\n",
       "  <thead>\n",
       "    <tr style=\"text-align: right;\">\n",
       "      <th></th>\n",
       "      <th>OrderID</th>\n",
       "      <th>CustomerID</th>\n",
       "      <th>OrderDate</th>\n",
       "      <th>ProductID</th>\n",
       "      <th>Quantity</th>\n",
       "      <th>SalesAmount</th>\n",
       "    </tr>\n",
       "  </thead>\n",
       "  <tbody>\n",
       "    <tr>\n",
       "      <th>0</th>\n",
       "      <td>2001</td>\n",
       "      <td>1035</td>\n",
       "      <td>2023-02-16</td>\n",
       "      <td>539</td>\n",
       "      <td>2</td>\n",
       "      <td>412.64</td>\n",
       "    </tr>\n",
       "    <tr>\n",
       "      <th>1</th>\n",
       "      <td>2002</td>\n",
       "      <td>1081</td>\n",
       "      <td>2023-10-15</td>\n",
       "      <td>540</td>\n",
       "      <td>3</td>\n",
       "      <td>986.34</td>\n",
       "    </tr>\n",
       "    <tr>\n",
       "      <th>2</th>\n",
       "      <td>2003</td>\n",
       "      <td>1090</td>\n",
       "      <td>2023-09-23</td>\n",
       "      <td>517</td>\n",
       "      <td>3</td>\n",
       "      <td>742.80</td>\n",
       "    </tr>\n",
       "    <tr>\n",
       "      <th>3</th>\n",
       "      <td>2004</td>\n",
       "      <td>1008</td>\n",
       "      <td>2023-01-16</td>\n",
       "      <td>537</td>\n",
       "      <td>9</td>\n",
       "      <td>4241.79</td>\n",
       "    </tr>\n",
       "    <tr>\n",
       "      <th>4</th>\n",
       "      <td>2005</td>\n",
       "      <td>1093</td>\n",
       "      <td>2023-07-18</td>\n",
       "      <td>539</td>\n",
       "      <td>7</td>\n",
       "      <td>1444.24</td>\n",
       "    </tr>\n",
       "  </tbody>\n",
       "</table>\n",
       "</div>"
      ],
      "text/plain": [
       "   OrderID  CustomerID   OrderDate  ProductID  Quantity  SalesAmount\n",
       "0     2001        1035  2023-02-16        539         2       412.64\n",
       "1     2002        1081  2023-10-15        540         3       986.34\n",
       "2     2003        1090  2023-09-23        517         3       742.80\n",
       "3     2004        1008  2023-01-16        537         9      4241.79\n",
       "4     2005        1093  2023-07-18        539         7      1444.24"
      ]
     },
     "execution_count": 9,
     "metadata": {},
     "output_type": "execute_result"
    }
   ],
   "source": [
    "orders.head()"
   ]
  },
  {
   "cell_type": "code",
   "execution_count": 10,
   "id": "aea3c926-5a39-4b77-b873-5e71a5d8a8c6",
   "metadata": {},
   "outputs": [],
   "source": [
    "top_customer = orders.groupby('CustomerID')['SalesAmount'].sum().idxmax() #\n",
    "top_customer_total = orders.groupby('CustomerID')['SalesAmount'].sum().max()\n",
    "top_customer_name = customers.loc[customers['CustomerID'] == top_customer, 'Name'].values[0]"
   ]
  },
  {
   "cell_type": "code",
   "execution_count": 11,
   "id": "ff7d757e-4377-4a75-acc9-e3db20334615",
   "metadata": {},
   "outputs": [
    {
     "data": {
      "text/plain": [
       "1109"
      ]
     },
     "execution_count": 11,
     "metadata": {},
     "output_type": "execute_result"
    }
   ],
   "source": [
    "top_customer"
   ]
  },
  {
   "cell_type": "code",
   "execution_count": 12,
   "id": "003f9c9a-2990-4bc7-9bdf-5f30b28af9ca",
   "metadata": {},
   "outputs": [
    {
     "data": {
      "text/plain": [
       "'Customer_108'"
      ]
     },
     "execution_count": 12,
     "metadata": {},
     "output_type": "execute_result"
    }
   ],
   "source": [
    "top_customer_name"
   ]
  },
  {
   "cell_type": "code",
   "execution_count": 13,
   "id": "aee2c383-20bc-4d8a-aedb-780dfb6f86cd",
   "metadata": {},
   "outputs": [
    {
     "data": {
      "text/plain": [
       "19874.17"
      ]
     },
     "execution_count": 13,
     "metadata": {},
     "output_type": "execute_result"
    }
   ],
   "source": [
    "top_customer_total"
   ]
  },
  {
   "cell_type": "markdown",
   "id": "5fb875f6-38a1-4b90-b100-50e649f62817",
   "metadata": {},
   "source": [
    "*What is the average order quantity per product category?*"
   ]
  },
  {
   "cell_type": "code",
   "execution_count": 15,
   "id": "0f436c66-72ec-4496-b694-9674d05a5086",
   "metadata": {},
   "outputs": [],
   "source": [
    "products = pd.read_csv(r'C:\\Users\\vrssv\\Desktop\\Project (Mine)\\Chatgpt\\Products.csv')"
   ]
  },
  {
   "cell_type": "code",
   "execution_count": 16,
   "id": "40557869-b830-4005-8267-e404fb9d5116",
   "metadata": {},
   "outputs": [
    {
     "data": {
      "text/html": [
       "<div>\n",
       "<style scoped>\n",
       "    .dataframe tbody tr th:only-of-type {\n",
       "        vertical-align: middle;\n",
       "    }\n",
       "\n",
       "    .dataframe tbody tr th {\n",
       "        vertical-align: top;\n",
       "    }\n",
       "\n",
       "    .dataframe thead th {\n",
       "        text-align: right;\n",
       "    }\n",
       "</style>\n",
       "<table border=\"1\" class=\"dataframe\">\n",
       "  <thead>\n",
       "    <tr style=\"text-align: right;\">\n",
       "      <th></th>\n",
       "      <th>ProductID</th>\n",
       "      <th>Category</th>\n",
       "      <th>Subcategory</th>\n",
       "      <th>Price</th>\n",
       "    </tr>\n",
       "  </thead>\n",
       "  <tbody>\n",
       "    <tr>\n",
       "      <th>0</th>\n",
       "      <td>501</td>\n",
       "      <td>Furniture</td>\n",
       "      <td>Accessories</td>\n",
       "      <td>336.89</td>\n",
       "    </tr>\n",
       "    <tr>\n",
       "      <th>1</th>\n",
       "      <td>502</td>\n",
       "      <td>Office Supplies</td>\n",
       "      <td>Phones</td>\n",
       "      <td>154.37</td>\n",
       "    </tr>\n",
       "    <tr>\n",
       "      <th>2</th>\n",
       "      <td>503</td>\n",
       "      <td>Furniture</td>\n",
       "      <td>Accessories</td>\n",
       "      <td>478.34</td>\n",
       "    </tr>\n",
       "    <tr>\n",
       "      <th>3</th>\n",
       "      <td>504</td>\n",
       "      <td>Technology</td>\n",
       "      <td>Binders</td>\n",
       "      <td>374.19</td>\n",
       "    </tr>\n",
       "    <tr>\n",
       "      <th>4</th>\n",
       "      <td>505</td>\n",
       "      <td>Technology</td>\n",
       "      <td>Binders</td>\n",
       "      <td>286.09</td>\n",
       "    </tr>\n",
       "  </tbody>\n",
       "</table>\n",
       "</div>"
      ],
      "text/plain": [
       "   ProductID         Category  Subcategory   Price\n",
       "0        501        Furniture  Accessories  336.89\n",
       "1        502  Office Supplies       Phones  154.37\n",
       "2        503        Furniture  Accessories  478.34\n",
       "3        504       Technology      Binders  374.19\n",
       "4        505       Technology      Binders  286.09"
      ]
     },
     "execution_count": 16,
     "metadata": {},
     "output_type": "execute_result"
    }
   ],
   "source": [
    "products.head()"
   ]
  },
  {
   "cell_type": "code",
   "execution_count": 17,
   "id": "71152268-6be1-4e83-ad9e-70953bcc3bf4",
   "metadata": {},
   "outputs": [
    {
     "data": {
      "text/plain": [
       "Category\n",
       "Furniture          5.04\n",
       "Office Supplies    4.72\n",
       "Technology         5.08\n",
       "Name: Quantity, dtype: float64"
      ]
     },
     "execution_count": 17,
     "metadata": {},
     "output_type": "execute_result"
    }
   ],
   "source": [
    "order_with_category = orders.merge(products[['ProductID','Category']], on='ProductID')\n",
    "avg_quantity_per_category = order_with_category.groupby('Category')['Quantity'].mean().round(2)\n",
    "avg_quantity_per_category"
   ]
  },
  {
   "cell_type": "markdown",
   "id": "4adf87be-ebf1-4ed0-8994-9badc5320b09",
   "metadata": {},
   "source": [
    "These values indicate that Technology products have the highest average quantity per order, closely followed by Furniture"
   ]
  },
  {
   "cell_type": "markdown",
   "id": "0db9b555-e4ee-4ecd-9d40-ed7a5b6adf28",
   "metadata": {},
   "source": [
    "**Which region has the most customers?**"
   ]
  },
  {
   "cell_type": "code",
   "execution_count": 20,
   "id": "ba10821f-35e1-48d8-ad5a-99e737e342fc",
   "metadata": {},
   "outputs": [],
   "source": [
    "customer_by_region = customers['Location'].value_counts()\n",
    "top_region = customer_by_region.idxmax()\n",
    "top_region_count = customer_by_region.max()"
   ]
  },
  {
   "cell_type": "code",
   "execution_count": 21,
   "id": "a845faf9-8885-4984-8098-a39dd884efd9",
   "metadata": {},
   "outputs": [
    {
     "data": {
      "text/plain": [
       "'East'"
      ]
     },
     "execution_count": 21,
     "metadata": {},
     "output_type": "execute_result"
    }
   ],
   "source": [
    "top_region"
   ]
  },
  {
   "cell_type": "code",
   "execution_count": 22,
   "id": "99077aff-879f-4a8d-8198-19d8eee37c25",
   "metadata": {},
   "outputs": [
    {
     "data": {
      "text/plain": [
       "54"
      ]
     },
     "execution_count": 22,
     "metadata": {},
     "output_type": "execute_result"
    }
   ],
   "source": [
    "top_region_count"
   ]
  },
  {
   "cell_type": "markdown",
   "id": "da9bf538-efea-468f-86c2-36241273681a",
   "metadata": {},
   "source": [
    "The region with the most customers is East, with 54 customers"
   ]
  },
  {
   "cell_type": "code",
   "execution_count": 24,
   "id": "a22f8449-df0c-4c7e-a82c-730c431a7708",
   "metadata": {},
   "outputs": [
    {
     "data": {
      "text/html": [
       "<div>\n",
       "<style scoped>\n",
       "    .dataframe tbody tr th:only-of-type {\n",
       "        vertical-align: middle;\n",
       "    }\n",
       "\n",
       "    .dataframe tbody tr th {\n",
       "        vertical-align: top;\n",
       "    }\n",
       "\n",
       "    .dataframe thead th {\n",
       "        text-align: right;\n",
       "    }\n",
       "</style>\n",
       "<table border=\"1\" class=\"dataframe\">\n",
       "  <thead>\n",
       "    <tr style=\"text-align: right;\">\n",
       "      <th></th>\n",
       "      <th>CustomerID</th>\n",
       "      <th>Name</th>\n",
       "      <th>Location</th>\n",
       "      <th>Segment</th>\n",
       "    </tr>\n",
       "  </thead>\n",
       "  <tbody>\n",
       "    <tr>\n",
       "      <th>0</th>\n",
       "      <td>1001</td>\n",
       "      <td>Customer_0</td>\n",
       "      <td>East</td>\n",
       "      <td>Home Office</td>\n",
       "    </tr>\n",
       "    <tr>\n",
       "      <th>1</th>\n",
       "      <td>1002</td>\n",
       "      <td>Customer_1</td>\n",
       "      <td>West</td>\n",
       "      <td>Home Office</td>\n",
       "    </tr>\n",
       "    <tr>\n",
       "      <th>2</th>\n",
       "      <td>1003</td>\n",
       "      <td>Customer_2</td>\n",
       "      <td>North</td>\n",
       "      <td>Consumer</td>\n",
       "    </tr>\n",
       "    <tr>\n",
       "      <th>3</th>\n",
       "      <td>1004</td>\n",
       "      <td>Customer_3</td>\n",
       "      <td>East</td>\n",
       "      <td>Consumer</td>\n",
       "    </tr>\n",
       "    <tr>\n",
       "      <th>4</th>\n",
       "      <td>1005</td>\n",
       "      <td>Customer_4</td>\n",
       "      <td>East</td>\n",
       "      <td>Corporate</td>\n",
       "    </tr>\n",
       "  </tbody>\n",
       "</table>\n",
       "</div>"
      ],
      "text/plain": [
       "   CustomerID        Name Location      Segment\n",
       "0        1001  Customer_0     East  Home Office\n",
       "1        1002  Customer_1     West  Home Office\n",
       "2        1003  Customer_2    North     Consumer\n",
       "3        1004  Customer_3     East     Consumer\n",
       "4        1005  Customer_4     East    Corporate"
      ]
     },
     "execution_count": 24,
     "metadata": {},
     "output_type": "execute_result"
    }
   ],
   "source": [
    "customers.head()"
   ]
  },
  {
   "cell_type": "code",
   "execution_count": 25,
   "id": "3c616bdb-c174-44af-9853-94e0bfe2bb1f",
   "metadata": {},
   "outputs": [
    {
     "data": {
      "text/html": [
       "<div>\n",
       "<style scoped>\n",
       "    .dataframe tbody tr th:only-of-type {\n",
       "        vertical-align: middle;\n",
       "    }\n",
       "\n",
       "    .dataframe tbody tr th {\n",
       "        vertical-align: top;\n",
       "    }\n",
       "\n",
       "    .dataframe thead th {\n",
       "        text-align: right;\n",
       "    }\n",
       "</style>\n",
       "<table border=\"1\" class=\"dataframe\">\n",
       "  <thead>\n",
       "    <tr style=\"text-align: right;\">\n",
       "      <th></th>\n",
       "      <th>ProductID</th>\n",
       "      <th>Category</th>\n",
       "      <th>Subcategory</th>\n",
       "      <th>Price</th>\n",
       "    </tr>\n",
       "  </thead>\n",
       "  <tbody>\n",
       "    <tr>\n",
       "      <th>0</th>\n",
       "      <td>501</td>\n",
       "      <td>Furniture</td>\n",
       "      <td>Accessories</td>\n",
       "      <td>336.89</td>\n",
       "    </tr>\n",
       "    <tr>\n",
       "      <th>1</th>\n",
       "      <td>502</td>\n",
       "      <td>Office Supplies</td>\n",
       "      <td>Phones</td>\n",
       "      <td>154.37</td>\n",
       "    </tr>\n",
       "    <tr>\n",
       "      <th>2</th>\n",
       "      <td>503</td>\n",
       "      <td>Furniture</td>\n",
       "      <td>Accessories</td>\n",
       "      <td>478.34</td>\n",
       "    </tr>\n",
       "    <tr>\n",
       "      <th>3</th>\n",
       "      <td>504</td>\n",
       "      <td>Technology</td>\n",
       "      <td>Binders</td>\n",
       "      <td>374.19</td>\n",
       "    </tr>\n",
       "    <tr>\n",
       "      <th>4</th>\n",
       "      <td>505</td>\n",
       "      <td>Technology</td>\n",
       "      <td>Binders</td>\n",
       "      <td>286.09</td>\n",
       "    </tr>\n",
       "  </tbody>\n",
       "</table>\n",
       "</div>"
      ],
      "text/plain": [
       "   ProductID         Category  Subcategory   Price\n",
       "0        501        Furniture  Accessories  336.89\n",
       "1        502  Office Supplies       Phones  154.37\n",
       "2        503        Furniture  Accessories  478.34\n",
       "3        504       Technology      Binders  374.19\n",
       "4        505       Technology      Binders  286.09"
      ]
     },
     "execution_count": 25,
     "metadata": {},
     "output_type": "execute_result"
    }
   ],
   "source": [
    "products.head()"
   ]
  },
  {
   "cell_type": "code",
   "execution_count": 26,
   "id": "0afb4b4e-6290-4ce5-99fc-a468cc7e8d9a",
   "metadata": {},
   "outputs": [
    {
     "data": {
      "text/html": [
       "<div>\n",
       "<style scoped>\n",
       "    .dataframe tbody tr th:only-of-type {\n",
       "        vertical-align: middle;\n",
       "    }\n",
       "\n",
       "    .dataframe tbody tr th {\n",
       "        vertical-align: top;\n",
       "    }\n",
       "\n",
       "    .dataframe thead th {\n",
       "        text-align: right;\n",
       "    }\n",
       "</style>\n",
       "<table border=\"1\" class=\"dataframe\">\n",
       "  <thead>\n",
       "    <tr style=\"text-align: right;\">\n",
       "      <th></th>\n",
       "      <th>OrderID</th>\n",
       "      <th>CustomerID</th>\n",
       "      <th>OrderDate</th>\n",
       "      <th>ProductID</th>\n",
       "      <th>Quantity</th>\n",
       "      <th>SalesAmount</th>\n",
       "    </tr>\n",
       "  </thead>\n",
       "  <tbody>\n",
       "    <tr>\n",
       "      <th>0</th>\n",
       "      <td>2001</td>\n",
       "      <td>1035</td>\n",
       "      <td>2023-02-16</td>\n",
       "      <td>539</td>\n",
       "      <td>2</td>\n",
       "      <td>412.64</td>\n",
       "    </tr>\n",
       "    <tr>\n",
       "      <th>1</th>\n",
       "      <td>2002</td>\n",
       "      <td>1081</td>\n",
       "      <td>2023-10-15</td>\n",
       "      <td>540</td>\n",
       "      <td>3</td>\n",
       "      <td>986.34</td>\n",
       "    </tr>\n",
       "    <tr>\n",
       "      <th>2</th>\n",
       "      <td>2003</td>\n",
       "      <td>1090</td>\n",
       "      <td>2023-09-23</td>\n",
       "      <td>517</td>\n",
       "      <td>3</td>\n",
       "      <td>742.80</td>\n",
       "    </tr>\n",
       "    <tr>\n",
       "      <th>3</th>\n",
       "      <td>2004</td>\n",
       "      <td>1008</td>\n",
       "      <td>2023-01-16</td>\n",
       "      <td>537</td>\n",
       "      <td>9</td>\n",
       "      <td>4241.79</td>\n",
       "    </tr>\n",
       "    <tr>\n",
       "      <th>4</th>\n",
       "      <td>2005</td>\n",
       "      <td>1093</td>\n",
       "      <td>2023-07-18</td>\n",
       "      <td>539</td>\n",
       "      <td>7</td>\n",
       "      <td>1444.24</td>\n",
       "    </tr>\n",
       "  </tbody>\n",
       "</table>\n",
       "</div>"
      ],
      "text/plain": [
       "   OrderID  CustomerID   OrderDate  ProductID  Quantity  SalesAmount\n",
       "0     2001        1035  2023-02-16        539         2       412.64\n",
       "1     2002        1081  2023-10-15        540         3       986.34\n",
       "2     2003        1090  2023-09-23        517         3       742.80\n",
       "3     2004        1008  2023-01-16        537         9      4241.79\n",
       "4     2005        1093  2023-07-18        539         7      1444.24"
      ]
     },
     "execution_count": 26,
     "metadata": {},
     "output_type": "execute_result"
    }
   ],
   "source": [
    "orders.head()"
   ]
  },
  {
   "cell_type": "markdown",
   "id": "b89abaee-5585-45a5-9738-25c8abe46261",
   "metadata": {},
   "source": [
    "**What is the total monthly sales for each region?**"
   ]
  },
  {
   "cell_type": "code",
   "execution_count": 28,
   "id": "baa9b782-f202-4c23-80f6-847672244773",
   "metadata": {},
   "outputs": [],
   "source": [
    "import matplotlib.pyplot as plt"
   ]
  },
  {
   "cell_type": "code",
   "execution_count": 29,
   "id": "4e4d7219-17b0-4bd2-b198-4d72ee2dcc45",
   "metadata": {},
   "outputs": [],
   "source": [
    "order_with_region = orders.merge(customers[['CustomerID','Location']], on = 'CustomerID')\n",
    "order_with_region['OrderDate'] = pd.to_datetime(order_with_region['OrderDate'])\n",
    "order_with_region['Month'] = order_with_region['OrderDate'].dt.to_period('M').astype(str)"
   ]
  },
  {
   "cell_type": "code",
   "execution_count": 30,
   "id": "a20bc490-152c-46b4-b045-2abb3f9cf37f",
   "metadata": {},
   "outputs": [],
   "source": [
    "monthly_sales = order_with_region.groupby(['Month','Location'])['SalesAmount'].sum().reset_index()"
   ]
  },
  {
   "cell_type": "code",
   "execution_count": 31,
   "id": "89e90bcf-ec34-4e01-804c-fe756bfa59d4",
   "metadata": {},
   "outputs": [],
   "source": [
    "pivot = monthly_sales.pivot(index='Month',columns='Location', values = 'SalesAmount').fillna(0)"
   ]
  },
  {
   "cell_type": "code",
   "execution_count": 32,
   "id": "b9477652-78cd-415e-b4b2-0de7671bd84d",
   "metadata": {},
   "outputs": [
    {
     "data": {
      "text/html": [
       "<div>\n",
       "<style scoped>\n",
       "    .dataframe tbody tr th:only-of-type {\n",
       "        vertical-align: middle;\n",
       "    }\n",
       "\n",
       "    .dataframe tbody tr th {\n",
       "        vertical-align: top;\n",
       "    }\n",
       "\n",
       "    .dataframe thead th {\n",
       "        text-align: right;\n",
       "    }\n",
       "</style>\n",
       "<table border=\"1\" class=\"dataframe\">\n",
       "  <thead>\n",
       "    <tr style=\"text-align: right;\">\n",
       "      <th>Location</th>\n",
       "      <th>East</th>\n",
       "      <th>North</th>\n",
       "      <th>South</th>\n",
       "      <th>West</th>\n",
       "    </tr>\n",
       "    <tr>\n",
       "      <th>Month</th>\n",
       "      <th></th>\n",
       "      <th></th>\n",
       "      <th></th>\n",
       "      <th></th>\n",
       "    </tr>\n",
       "  </thead>\n",
       "  <tbody>\n",
       "    <tr>\n",
       "      <th>2023-01</th>\n",
       "      <td>34790.80</td>\n",
       "      <td>28973.08</td>\n",
       "      <td>25987.36</td>\n",
       "      <td>45144.67</td>\n",
       "    </tr>\n",
       "    <tr>\n",
       "      <th>2023-02</th>\n",
       "      <td>14602.58</td>\n",
       "      <td>20756.15</td>\n",
       "      <td>15169.03</td>\n",
       "      <td>21912.27</td>\n",
       "    </tr>\n",
       "    <tr>\n",
       "      <th>2023-03</th>\n",
       "      <td>20599.44</td>\n",
       "      <td>23408.78</td>\n",
       "      <td>12975.22</td>\n",
       "      <td>26032.45</td>\n",
       "    </tr>\n",
       "    <tr>\n",
       "      <th>2023-04</th>\n",
       "      <td>31270.74</td>\n",
       "      <td>24897.60</td>\n",
       "      <td>21308.93</td>\n",
       "      <td>19336.45</td>\n",
       "    </tr>\n",
       "    <tr>\n",
       "      <th>2023-05</th>\n",
       "      <td>30646.75</td>\n",
       "      <td>12011.30</td>\n",
       "      <td>26266.82</td>\n",
       "      <td>21401.64</td>\n",
       "    </tr>\n",
       "  </tbody>\n",
       "</table>\n",
       "</div>"
      ],
      "text/plain": [
       "Location      East     North     South      West\n",
       "Month                                           \n",
       "2023-01   34790.80  28973.08  25987.36  45144.67\n",
       "2023-02   14602.58  20756.15  15169.03  21912.27\n",
       "2023-03   20599.44  23408.78  12975.22  26032.45\n",
       "2023-04   31270.74  24897.60  21308.93  19336.45\n",
       "2023-05   30646.75  12011.30  26266.82  21401.64"
      ]
     },
     "execution_count": 32,
     "metadata": {},
     "output_type": "execute_result"
    }
   ],
   "source": [
    "pivot.head()"
   ]
  },
  {
   "cell_type": "code",
   "execution_count": 33,
   "id": "3efff320-9a51-4241-9d36-f25c170f2006",
   "metadata": {},
   "outputs": [
    {
     "data": {
      "text/html": [
       "<div>\n",
       "<style scoped>\n",
       "    .dataframe tbody tr th:only-of-type {\n",
       "        vertical-align: middle;\n",
       "    }\n",
       "\n",
       "    .dataframe tbody tr th {\n",
       "        vertical-align: top;\n",
       "    }\n",
       "\n",
       "    .dataframe thead th {\n",
       "        text-align: right;\n",
       "    }\n",
       "</style>\n",
       "<table border=\"1\" class=\"dataframe\">\n",
       "  <thead>\n",
       "    <tr style=\"text-align: right;\">\n",
       "      <th></th>\n",
       "      <th>OrderID</th>\n",
       "      <th>CustomerID</th>\n",
       "      <th>OrderDate</th>\n",
       "      <th>ProductID</th>\n",
       "      <th>Quantity</th>\n",
       "      <th>SalesAmount</th>\n",
       "      <th>Location</th>\n",
       "      <th>Month</th>\n",
       "    </tr>\n",
       "  </thead>\n",
       "  <tbody>\n",
       "    <tr>\n",
       "      <th>0</th>\n",
       "      <td>2001</td>\n",
       "      <td>1035</td>\n",
       "      <td>2023-02-16</td>\n",
       "      <td>539</td>\n",
       "      <td>2</td>\n",
       "      <td>412.64</td>\n",
       "      <td>South</td>\n",
       "      <td>2023-02</td>\n",
       "    </tr>\n",
       "    <tr>\n",
       "      <th>1</th>\n",
       "      <td>2002</td>\n",
       "      <td>1081</td>\n",
       "      <td>2023-10-15</td>\n",
       "      <td>540</td>\n",
       "      <td>3</td>\n",
       "      <td>986.34</td>\n",
       "      <td>East</td>\n",
       "      <td>2023-10</td>\n",
       "    </tr>\n",
       "    <tr>\n",
       "      <th>2</th>\n",
       "      <td>2003</td>\n",
       "      <td>1090</td>\n",
       "      <td>2023-09-23</td>\n",
       "      <td>517</td>\n",
       "      <td>3</td>\n",
       "      <td>742.80</td>\n",
       "      <td>South</td>\n",
       "      <td>2023-09</td>\n",
       "    </tr>\n",
       "    <tr>\n",
       "      <th>3</th>\n",
       "      <td>2004</td>\n",
       "      <td>1008</td>\n",
       "      <td>2023-01-16</td>\n",
       "      <td>537</td>\n",
       "      <td>9</td>\n",
       "      <td>4241.79</td>\n",
       "      <td>North</td>\n",
       "      <td>2023-01</td>\n",
       "    </tr>\n",
       "    <tr>\n",
       "      <th>4</th>\n",
       "      <td>2005</td>\n",
       "      <td>1093</td>\n",
       "      <td>2023-07-18</td>\n",
       "      <td>539</td>\n",
       "      <td>7</td>\n",
       "      <td>1444.24</td>\n",
       "      <td>South</td>\n",
       "      <td>2023-07</td>\n",
       "    </tr>\n",
       "  </tbody>\n",
       "</table>\n",
       "</div>"
      ],
      "text/plain": [
       "   OrderID  CustomerID  OrderDate  ProductID  Quantity  SalesAmount Location  \\\n",
       "0     2001        1035 2023-02-16        539         2       412.64    South   \n",
       "1     2002        1081 2023-10-15        540         3       986.34     East   \n",
       "2     2003        1090 2023-09-23        517         3       742.80    South   \n",
       "3     2004        1008 2023-01-16        537         9      4241.79    North   \n",
       "4     2005        1093 2023-07-18        539         7      1444.24    South   \n",
       "\n",
       "     Month  \n",
       "0  2023-02  \n",
       "1  2023-10  \n",
       "2  2023-09  \n",
       "3  2023-01  \n",
       "4  2023-07  "
      ]
     },
     "execution_count": 33,
     "metadata": {},
     "output_type": "execute_result"
    }
   ],
   "source": [
    "order_with_region.head()"
   ]
  },
  {
   "cell_type": "code",
   "execution_count": 34,
   "id": "40568578-108b-4b3f-8793-884b54d2bc5a",
   "metadata": {},
   "outputs": [
    {
     "data": {
      "image/png": "[encoded data removed]",
      "text/plain": [
       "<Figure size 1400x600 with 1 Axes>"
      ]
     },
     "metadata": {},
     "output_type": "display_data"
    }
   ],
   "source": [
    "pivot.plot(kind='bar',figsize=(14,6))\n",
    "plt.title ('Monthly Sale by Region')\n",
    "plt.xlabel ('Month')\n",
    "plt.ylabel ('Sales Amount')\n",
    "plt.xticks (rotation=45)\n",
    "plt.legend (title = 'Region')\n",
    "plt.tight_layout()\n",
    "plt.show()"
   ]
  },
  {
   "cell_type": "markdown",
   "id": "4735fadd-1934-4222-aa74-5777e0d22ddf",
   "metadata": {},
   "source": [
    "**Which product subcategory generates the highest revenue?**"
   ]
  },
  {
   "cell_type": "code",
   "execution_count": 36,
   "id": "ba48b645-8f86-4b0a-842b-ded691d6d973",
   "metadata": {},
   "outputs": [
    {
     "name": "stdout",
     "output_type": "stream",
     "text": [
      "Top SubCategory : Binders\n",
      "Total Revenue : 360144.41\n"
     ]
    }
   ],
   "source": [
    "order_with_subcategory = orders.merge(products[['ProductID','Subcategory']], on = 'ProductID')\n",
    "subcategory_revenue = order_with_subcategory.groupby('Subcategory')['SalesAmount'].sum()\n",
    "top_subcategory = subcategory_revenue.idxmax()\n",
    "top_revenue = subcategory_revenue.max()\n",
    "\n",
    "print(f\"Top SubCategory : {top_subcategory}\")\n",
    "print(f\"Total Revenue : {top_revenue}\")"
   ]
  },
  {
   "cell_type": "markdown",
   "id": "d25e68fc-83d6-4fa5-a18d-928b6fed85c0",
   "metadata": {},
   "source": [
    " **What is the average sales per order by customer segment (Consumer, Corporate, Home Office)?**\n"
   ]
  },
  {
   "cell_type": "code",
   "execution_count": 38,
   "id": "7c03c890-6dea-4f30-af99-16f19c32de7f",
   "metadata": {},
   "outputs": [
    {
     "name": "stdout",
     "output_type": "stream",
     "text": [
      "Average sales per order by customer segment:\n",
      "Segment\n",
      "Consumer       1143.33\n",
      "Corporate      1113.87\n",
      "Home Office    1206.57\n",
      "Name: SalesAmount, dtype: float64\n"
     ]
    }
   ],
   "source": [
    "order_with_segment = orders.merge(customers[['CustomerID','Segment']],on = \"CustomerID\")\n",
    "avg_sales_by_segment = order_with_segment.groupby('Segment')['SalesAmount'].mean().round(2)\n",
    "print(\"Average sales per order by customer segment:\")\n",
    "print(avg_sales_by_segment)"
   ]
  },
  {
   "cell_type": "markdown",
   "id": "b84e1f5a-8038-40e1-a2f4-a644648faabe",
   "metadata": {},
   "source": [
    "**Which 5 customers have made the most purchases in quantity and in value?**\n"
   ]
  },
  {
   "cell_type": "code",
   "execution_count": 40,
   "id": "a3ef5b8f-dbbf-493c-979f-25d42d867072",
   "metadata": {},
   "outputs": [],
   "source": [
    "customer_stats = orders.groupby(\"CustomerID\")[['Quantity','SalesAmount']].sum()\n",
    "top_by_quantity = customer_stats.sort_values(by='Quantity',ascending=False).head(5)\n",
    "top_by_value = customer_stats.sort_values(by='SalesAmount', ascending=False).head(5)"
   ]
  },
  {
   "cell_type": "code",
   "execution_count": 41,
   "id": "0d200a93-e603-4fc9-9d97-cf15a1b7597e",
   "metadata": {},
   "outputs": [
    {
     "data": {
      "text/html": [
       "<div>\n",
       "<style scoped>\n",
       "    .dataframe tbody tr th:only-of-type {\n",
       "        vertical-align: middle;\n",
       "    }\n",
       "\n",
       "    .dataframe tbody tr th {\n",
       "        vertical-align: top;\n",
       "    }\n",
       "\n",
       "    .dataframe thead th {\n",
       "        text-align: right;\n",
       "    }\n",
       "</style>\n",
       "<table border=\"1\" class=\"dataframe\">\n",
       "  <thead>\n",
       "    <tr style=\"text-align: right;\">\n",
       "      <th></th>\n",
       "      <th>Quantity</th>\n",
       "      <th>SalesAmount</th>\n",
       "    </tr>\n",
       "    <tr>\n",
       "      <th>CustomerID</th>\n",
       "      <th></th>\n",
       "      <th></th>\n",
       "    </tr>\n",
       "  </thead>\n",
       "  <tbody>\n",
       "    <tr>\n",
       "      <th>1001</th>\n",
       "      <td>55</td>\n",
       "      <td>10238.57</td>\n",
       "    </tr>\n",
       "    <tr>\n",
       "      <th>1002</th>\n",
       "      <td>9</td>\n",
       "      <td>2666.07</td>\n",
       "    </tr>\n",
       "    <tr>\n",
       "      <th>1003</th>\n",
       "      <td>26</td>\n",
       "      <td>5464.79</td>\n",
       "    </tr>\n",
       "    <tr>\n",
       "      <th>1004</th>\n",
       "      <td>19</td>\n",
       "      <td>3146.21</td>\n",
       "    </tr>\n",
       "    <tr>\n",
       "      <th>1005</th>\n",
       "      <td>48</td>\n",
       "      <td>13493.26</td>\n",
       "    </tr>\n",
       "  </tbody>\n",
       "</table>\n",
       "</div>"
      ],
      "text/plain": [
       "            Quantity  SalesAmount\n",
       "CustomerID                       \n",
       "1001              55     10238.57\n",
       "1002               9      2666.07\n",
       "1003              26      5464.79\n",
       "1004              19      3146.21\n",
       "1005              48     13493.26"
      ]
     },
     "execution_count": 41,
     "metadata": {},
     "output_type": "execute_result"
    }
   ],
   "source": [
    "customer_stats.head()"
   ]
  },
  {
   "cell_type": "code",
   "execution_count": 42,
   "id": "0ffa9790-da12-4f35-b60b-923e118cc141",
   "metadata": {},
   "outputs": [
    {
     "data": {
      "text/html": [
       "<div>\n",
       "<style scoped>\n",
       "    .dataframe tbody tr th:only-of-type {\n",
       "        vertical-align: middle;\n",
       "    }\n",
       "\n",
       "    .dataframe tbody tr th {\n",
       "        vertical-align: top;\n",
       "    }\n",
       "\n",
       "    .dataframe thead th {\n",
       "        text-align: right;\n",
       "    }\n",
       "</style>\n",
       "<table border=\"1\" class=\"dataframe\">\n",
       "  <thead>\n",
       "    <tr style=\"text-align: right;\">\n",
       "      <th></th>\n",
       "      <th>Quantity</th>\n",
       "      <th>SalesAmount</th>\n",
       "    </tr>\n",
       "    <tr>\n",
       "      <th>CustomerID</th>\n",
       "      <th></th>\n",
       "      <th></th>\n",
       "    </tr>\n",
       "  </thead>\n",
       "  <tbody>\n",
       "    <tr>\n",
       "      <th>1047</th>\n",
       "      <td>69</td>\n",
       "      <td>16478.96</td>\n",
       "    </tr>\n",
       "    <tr>\n",
       "      <th>1179</th>\n",
       "      <td>69</td>\n",
       "      <td>13093.62</td>\n",
       "    </tr>\n",
       "    <tr>\n",
       "      <th>1109</th>\n",
       "      <td>63</td>\n",
       "      <td>19874.17</td>\n",
       "    </tr>\n",
       "    <tr>\n",
       "      <th>1111</th>\n",
       "      <td>57</td>\n",
       "      <td>14174.10</td>\n",
       "    </tr>\n",
       "    <tr>\n",
       "      <th>1001</th>\n",
       "      <td>55</td>\n",
       "      <td>10238.57</td>\n",
       "    </tr>\n",
       "  </tbody>\n",
       "</table>\n",
       "</div>"
      ],
      "text/plain": [
       "            Quantity  SalesAmount\n",
       "CustomerID                       \n",
       "1047              69     16478.96\n",
       "1179              69     13093.62\n",
       "1109              63     19874.17\n",
       "1111              57     14174.10\n",
       "1001              55     10238.57"
      ]
     },
     "execution_count": 42,
     "metadata": {},
     "output_type": "execute_result"
    }
   ],
   "source": [
    "top_by_quantity.head()"
   ]
  },
  {
   "cell_type": "code",
   "execution_count": 43,
   "id": "69ccbb2e-0203-4ef5-b4c6-e33040d8a0f7",
   "metadata": {},
   "outputs": [
    {
     "data": {
      "text/html": [
       "<div>\n",
       "<style scoped>\n",
       "    .dataframe tbody tr th:only-of-type {\n",
       "        vertical-align: middle;\n",
       "    }\n",
       "\n",
       "    .dataframe tbody tr th {\n",
       "        vertical-align: top;\n",
       "    }\n",
       "\n",
       "    .dataframe thead th {\n",
       "        text-align: right;\n",
       "    }\n",
       "</style>\n",
       "<table border=\"1\" class=\"dataframe\">\n",
       "  <thead>\n",
       "    <tr style=\"text-align: right;\">\n",
       "      <th></th>\n",
       "      <th>Quantity</th>\n",
       "      <th>SalesAmount</th>\n",
       "    </tr>\n",
       "    <tr>\n",
       "      <th>CustomerID</th>\n",
       "      <th></th>\n",
       "      <th></th>\n",
       "    </tr>\n",
       "  </thead>\n",
       "  <tbody>\n",
       "    <tr>\n",
       "      <th>1109</th>\n",
       "      <td>63</td>\n",
       "      <td>19874.17</td>\n",
       "    </tr>\n",
       "    <tr>\n",
       "      <th>1047</th>\n",
       "      <td>69</td>\n",
       "      <td>16478.96</td>\n",
       "    </tr>\n",
       "    <tr>\n",
       "      <th>1008</th>\n",
       "      <td>51</td>\n",
       "      <td>15953.72</td>\n",
       "    </tr>\n",
       "    <tr>\n",
       "      <th>1042</th>\n",
       "      <td>46</td>\n",
       "      <td>15019.73</td>\n",
       "    </tr>\n",
       "    <tr>\n",
       "      <th>1111</th>\n",
       "      <td>57</td>\n",
       "      <td>14174.10</td>\n",
       "    </tr>\n",
       "  </tbody>\n",
       "</table>\n",
       "</div>"
      ],
      "text/plain": [
       "            Quantity  SalesAmount\n",
       "CustomerID                       \n",
       "1109              63     19874.17\n",
       "1047              69     16478.96\n",
       "1008              51     15953.72\n",
       "1042              46     15019.73\n",
       "1111              57     14174.10"
      ]
     },
     "execution_count": 43,
     "metadata": {},
     "output_type": "execute_result"
    }
   ],
   "source": [
    "top_by_value.head()"
   ]
  },
  {
   "cell_type": "code",
   "execution_count": 44,
   "id": "2364770d-10e2-45d6-929d-28c5ba42581b",
   "metadata": {},
   "outputs": [
    {
     "name": "stdout",
     "output_type": "stream",
     "text": [
      "Top 5 Customers by Total Purchase Value:\n",
      "   CustomerID          Name  SalesAmount\n",
      "0        1109  Customer_108     19874.17\n",
      "1        1047   Customer_46     16478.96\n",
      "2        1008    Customer_7     15953.72\n",
      "3        1042   Customer_41     15019.73\n",
      "4        1111  Customer_110     14174.10\n"
     ]
    }
   ],
   "source": [
    "top_by_quantity = top_by_quantity.merge(customers[['CustomerID','Name']], on = 'CustomerID')\n",
    "top_by_value = top_by_value.merge(customers[['CustomerID','Name']], on = 'CustomerID')\n",
    "print(\"Top 5 Customers by Total Purchase Value:\")\n",
    "print(top_by_value[['CustomerID','Name', 'SalesAmount']])"
   ]
  },
  {
   "cell_type": "code",
   "execution_count": null,
   "id": "73bb1b75-ca5a-4e61-8e5c-d698ea353219",
   "metadata": {},
   "outputs": [],
   "source": []
  },
  {
   "cell_type": "code",
   "execution_count": null,
   "id": "b3023890-c74c-4b81-9d50-4aa70e0f175d",
   "metadata": {},
   "outputs": [],
   "source": []
  },
  {
   "cell_type": "code",
   "execution_count": null,
   "id": "168a21be-5594-4ab6-a5df-7426a83db968",
   "metadata": {},
   "outputs": [],
   "source": []
  },
  {
   "cell_type": "code",
   "execution_count": null,
   "id": "af4cb0e3-a9b7-4527-83b0-1afe3eb16466",
   "metadata": {},
   "outputs": [],
   "source": []
  },
  {
   "cell_type": "code",
   "execution_count": null,
   "id": "dc20aac7-ea74-40c7-842f-cd1bc35002b7",
   "metadata": {},
   "outputs": [],
   "source": []
  },
  {
   "cell_type": "code",
   "execution_count": null,
   "id": "f980f7a7-294a-4e43-916a-81e403900b55",
   "metadata": {},
   "outputs": [],
   "source": []
  },
  {
   "cell_type": "code",
   "execution_count": null,
   "id": "d55727b1-d3f6-4fe1-a681-c5aedefd1cab",
   "metadata": {},
   "outputs": [],
   "source": []
  },
  {
   "cell_type": "code",
   "execution_count": null,
   "id": "e46aa379-c812-47a9-bacc-7c0632fadfba",
   "metadata": {},
   "outputs": [],
   "source": []
  },
  {
   "cell_type": "code",
   "execution_count": null,
   "id": "e171e0a3-e1a1-4560-b881-8f4f807e2f77",
   "metadata": {},
   "outputs": [],
   "source": []
  },
  {
   "cell_type": "code",
   "execution_count": null,
   "id": "29139c47-efac-47b9-a9ee-bd166057448b",
   "metadata": {},
   "outputs": [],
   "source": []
  },
  {
   "cell_type": "code",
   "execution_count": null,
   "id": "141921b4-08d1-419c-8dd1-0f90a05b2304",
   "metadata": {},
   "outputs": [],
   "source": []
  },
  {
   "cell_type": "code",
   "execution_count": null,
   "id": "82602bed-92f6-4d7f-b3b0-6dced31ff34f",
   "metadata": {},
   "outputs": [],
   "source": []
  }
 ],
 "metadata": {
  "kernelspec": {
   "display_name": "Python 3 (ipykernel)",
   "language": "python",
   "name": "python3"
  },
  "language_info": {
   "codemirror_mode": {
    "name": "ipython",
    "version": 3
   },
   "file_extension": ".py",
   "mimetype": "text/x-python",
   "name": "python",
   "nbconvert_exporter": "python",
   "pygments_lexer": "ipython3",
   "version": "3.12.7"
  }
 },
 "nbformat": 4,
 "nbformat_minor": 5
}
