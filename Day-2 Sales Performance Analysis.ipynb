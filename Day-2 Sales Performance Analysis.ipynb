{
 "cells": [
  {
   "cell_type": "code",
   "execution_count": 1,
   "id": "3993a741-ff66-4b6d-a33f-1c171913600d",
   "metadata": {},
   "outputs": [],
   "source": [
    "import pandas as pd"
   ]
  },
  {
   "cell_type": "code",
   "execution_count": 2,
   "id": "8a12e7d9-5288-45ac-bc96-ff7fe331e6c5",
   "metadata": {},
   "outputs": [],
   "source": [
    "orders = pd.read_csv(r'C:\\Users\\vrssv\\Desktop\\Project (Mine)\\Beginner Projects\\Orders.csv')"
   ]
  },
  {
   "cell_type": "code",
   "execution_count": 3,
   "id": "fa6cd6cd-874c-4988-bf97-01fd161543a6",
   "metadata": {},
   "outputs": [],
   "source": [
    "returns = pd.read_csv(r'C:\\Users\\vrssv\\Desktop\\Project (Mine)\\Beginner Projects\\Returns.csv')"
   ]
  },
  {
   "cell_type": "code",
   "execution_count": 4,
   "id": "4adf2bdb-ef6a-4511-8ba9-1ca29584487e",
   "metadata": {},
   "outputs": [],
   "source": [
    "products = pd.read_csv(r'C:\\Users\\vrssv\\Desktop\\Project (Mine)\\Beginner Projects\\Products.csv')"
   ]
  },
  {
   "cell_type": "code",
   "execution_count": 5,
   "id": "9440f737-a79f-4008-97af-420f18bf36b7",
   "metadata": {},
   "outputs": [],
   "source": [
    "customers = pd.read_csv(r'C:\\Users\\vrssv\\Desktop\\Project (Mine)\\Beginner Projects\\Customers.csv')"
   ]
  },
  {
   "cell_type": "code",
   "execution_count": 6,
   "id": "7edd9327-be1d-43b9-8796-5febf9171bbe",
   "metadata": {},
   "outputs": [
    {
     "data": {
      "text/html": [
       "<div>\n",
       "<style scoped>\n",
       "    .dataframe tbody tr th:only-of-type {\n",
       "        vertical-align: middle;\n",
       "    }\n",
       "\n",
       "    .dataframe tbody tr th {\n",
       "        vertical-align: top;\n",
       "    }\n",
       "\n",
       "    .dataframe thead th {\n",
       "        text-align: right;\n",
       "    }\n",
       "</style>\n",
       "<table border=\"1\" class=\"dataframe\">\n",
       "  <thead>\n",
       "    <tr style=\"text-align: right;\">\n",
       "      <th></th>\n",
       "      <th>OrderID</th>\n",
       "      <th>CustomerID</th>\n",
       "      <th>OrderDate</th>\n",
       "      <th>ProductID</th>\n",
       "      <th>Quantity</th>\n",
       "      <th>SalesAmount</th>\n",
       "    </tr>\n",
       "  </thead>\n",
       "  <tbody>\n",
       "    <tr>\n",
       "      <th>0</th>\n",
       "      <td>2001</td>\n",
       "      <td>1035</td>\n",
       "      <td>2023-02-16</td>\n",
       "      <td>539</td>\n",
       "      <td>2</td>\n",
       "      <td>412.64</td>\n",
       "    </tr>\n",
       "    <tr>\n",
       "      <th>1</th>\n",
       "      <td>2002</td>\n",
       "      <td>1081</td>\n",
       "      <td>2023-10-15</td>\n",
       "      <td>540</td>\n",
       "      <td>3</td>\n",
       "      <td>986.34</td>\n",
       "    </tr>\n",
       "    <tr>\n",
       "      <th>2</th>\n",
       "      <td>2003</td>\n",
       "      <td>1090</td>\n",
       "      <td>2023-09-23</td>\n",
       "      <td>517</td>\n",
       "      <td>3</td>\n",
       "      <td>742.80</td>\n",
       "    </tr>\n",
       "    <tr>\n",
       "      <th>3</th>\n",
       "      <td>2004</td>\n",
       "      <td>1008</td>\n",
       "      <td>2023-01-16</td>\n",
       "      <td>537</td>\n",
       "      <td>9</td>\n",
       "      <td>4241.79</td>\n",
       "    </tr>\n",
       "    <tr>\n",
       "      <th>4</th>\n",
       "      <td>2005</td>\n",
       "      <td>1093</td>\n",
       "      <td>2023-07-18</td>\n",
       "      <td>539</td>\n",
       "      <td>7</td>\n",
       "      <td>1444.24</td>\n",
       "    </tr>\n",
       "  </tbody>\n",
       "</table>\n",
       "</div>"
      ],
      "text/plain": [
       "   OrderID  CustomerID   OrderDate  ProductID  Quantity  SalesAmount\n",
       "0     2001        1035  2023-02-16        539         2       412.64\n",
       "1     2002        1081  2023-10-15        540         3       986.34\n",
       "2     2003        1090  2023-09-23        517         3       742.80\n",
       "3     2004        1008  2023-01-16        537         9      4241.79\n",
       "4     2005        1093  2023-07-18        539         7      1444.24"
      ]
     },
     "execution_count": 6,
     "metadata": {},
     "output_type": "execute_result"
    }
   ],
   "source": [
    "orders.head()"
   ]
  },
  {
   "cell_type": "code",
   "execution_count": 7,
   "id": "6cfa9fd0-33b2-4d71-823b-b635a7ad3bb7",
   "metadata": {},
   "outputs": [
    {
     "data": {
      "text/html": [
       "<div>\n",
       "<style scoped>\n",
       "    .dataframe tbody tr th:only-of-type {\n",
       "        vertical-align: middle;\n",
       "    }\n",
       "\n",
       "    .dataframe tbody tr th {\n",
       "        vertical-align: top;\n",
       "    }\n",
       "\n",
       "    .dataframe thead th {\n",
       "        text-align: right;\n",
       "    }\n",
       "</style>\n",
       "<table border=\"1\" class=\"dataframe\">\n",
       "  <thead>\n",
       "    <tr style=\"text-align: right;\">\n",
       "      <th></th>\n",
       "      <th>OrderID</th>\n",
       "      <th>ReturnDate</th>\n",
       "    </tr>\n",
       "  </thead>\n",
       "  <tbody>\n",
       "    <tr>\n",
       "      <th>0</th>\n",
       "      <td>2259</td>\n",
       "      <td>2023-10-19</td>\n",
       "    </tr>\n",
       "    <tr>\n",
       "      <th>1</th>\n",
       "      <td>2963</td>\n",
       "      <td>2023-10-30</td>\n",
       "    </tr>\n",
       "    <tr>\n",
       "      <th>2</th>\n",
       "      <td>2306</td>\n",
       "      <td>2023-10-13</td>\n",
       "    </tr>\n",
       "    <tr>\n",
       "      <th>3</th>\n",
       "      <td>2085</td>\n",
       "      <td>2023-12-10</td>\n",
       "    </tr>\n",
       "    <tr>\n",
       "      <th>4</th>\n",
       "      <td>2033</td>\n",
       "      <td>2024-01-24</td>\n",
       "    </tr>\n",
       "  </tbody>\n",
       "</table>\n",
       "</div>"
      ],
      "text/plain": [
       "   OrderID  ReturnDate\n",
       "0     2259  2023-10-19\n",
       "1     2963  2023-10-30\n",
       "2     2306  2023-10-13\n",
       "3     2085  2023-12-10\n",
       "4     2033  2024-01-24"
      ]
     },
     "execution_count": 7,
     "metadata": {},
     "output_type": "execute_result"
    }
   ],
   "source": [
    "returns.head()"
   ]
  },
  {
   "cell_type": "code",
   "execution_count": 8,
   "id": "12b6c592-c431-4e92-af08-7354559bef70",
   "metadata": {},
   "outputs": [
    {
     "data": {
      "text/html": [
       "<div>\n",
       "<style scoped>\n",
       "    .dataframe tbody tr th:only-of-type {\n",
       "        vertical-align: middle;\n",
       "    }\n",
       "\n",
       "    .dataframe tbody tr th {\n",
       "        vertical-align: top;\n",
       "    }\n",
       "\n",
       "    .dataframe thead th {\n",
       "        text-align: right;\n",
       "    }\n",
       "</style>\n",
       "<table border=\"1\" class=\"dataframe\">\n",
       "  <thead>\n",
       "    <tr style=\"text-align: right;\">\n",
       "      <th></th>\n",
       "      <th>ProductID</th>\n",
       "      <th>Category</th>\n",
       "      <th>Subcategory</th>\n",
       "      <th>Price</th>\n",
       "    </tr>\n",
       "  </thead>\n",
       "  <tbody>\n",
       "    <tr>\n",
       "      <th>0</th>\n",
       "      <td>501</td>\n",
       "      <td>Furniture</td>\n",
       "      <td>Accessories</td>\n",
       "      <td>336.89</td>\n",
       "    </tr>\n",
       "    <tr>\n",
       "      <th>1</th>\n",
       "      <td>502</td>\n",
       "      <td>Office Supplies</td>\n",
       "      <td>Phones</td>\n",
       "      <td>154.37</td>\n",
       "    </tr>\n",
       "    <tr>\n",
       "      <th>2</th>\n",
       "      <td>503</td>\n",
       "      <td>Furniture</td>\n",
       "      <td>Accessories</td>\n",
       "      <td>478.34</td>\n",
       "    </tr>\n",
       "    <tr>\n",
       "      <th>3</th>\n",
       "      <td>504</td>\n",
       "      <td>Technology</td>\n",
       "      <td>Binders</td>\n",
       "      <td>374.19</td>\n",
       "    </tr>\n",
       "    <tr>\n",
       "      <th>4</th>\n",
       "      <td>505</td>\n",
       "      <td>Technology</td>\n",
       "      <td>Binders</td>\n",
       "      <td>286.09</td>\n",
       "    </tr>\n",
       "  </tbody>\n",
       "</table>\n",
       "</div>"
      ],
      "text/plain": [
       "   ProductID         Category  Subcategory   Price\n",
       "0        501        Furniture  Accessories  336.89\n",
       "1        502  Office Supplies       Phones  154.37\n",
       "2        503        Furniture  Accessories  478.34\n",
       "3        504       Technology      Binders  374.19\n",
       "4        505       Technology      Binders  286.09"
      ]
     },
     "execution_count": 8,
     "metadata": {},
     "output_type": "execute_result"
    }
   ],
   "source": [
    "products.head()"
   ]
  },
  {
   "cell_type": "code",
   "execution_count": 9,
   "id": "4acd4981-f45b-4264-8247-47393a2e0852",
   "metadata": {},
   "outputs": [
    {
     "data": {
      "text/html": [
       "<div>\n",
       "<style scoped>\n",
       "    .dataframe tbody tr th:only-of-type {\n",
       "        vertical-align: middle;\n",
       "    }\n",
       "\n",
       "    .dataframe tbody tr th {\n",
       "        vertical-align: top;\n",
       "    }\n",
       "\n",
       "    .dataframe thead th {\n",
       "        text-align: right;\n",
       "    }\n",
       "</style>\n",
       "<table border=\"1\" class=\"dataframe\">\n",
       "  <thead>\n",
       "    <tr style=\"text-align: right;\">\n",
       "      <th></th>\n",
       "      <th>CustomerID</th>\n",
       "      <th>Name</th>\n",
       "      <th>Location</th>\n",
       "      <th>Segment</th>\n",
       "    </tr>\n",
       "  </thead>\n",
       "  <tbody>\n",
       "    <tr>\n",
       "      <th>0</th>\n",
       "      <td>1001</td>\n",
       "      <td>Customer_0</td>\n",
       "      <td>East</td>\n",
       "      <td>Home Office</td>\n",
       "    </tr>\n",
       "    <tr>\n",
       "      <th>1</th>\n",
       "      <td>1002</td>\n",
       "      <td>Customer_1</td>\n",
       "      <td>West</td>\n",
       "      <td>Home Office</td>\n",
       "    </tr>\n",
       "    <tr>\n",
       "      <th>2</th>\n",
       "      <td>1003</td>\n",
       "      <td>Customer_2</td>\n",
       "      <td>North</td>\n",
       "      <td>Consumer</td>\n",
       "    </tr>\n",
       "    <tr>\n",
       "      <th>3</th>\n",
       "      <td>1004</td>\n",
       "      <td>Customer_3</td>\n",
       "      <td>East</td>\n",
       "      <td>Consumer</td>\n",
       "    </tr>\n",
       "    <tr>\n",
       "      <th>4</th>\n",
       "      <td>1005</td>\n",
       "      <td>Customer_4</td>\n",
       "      <td>East</td>\n",
       "      <td>Corporate</td>\n",
       "    </tr>\n",
       "  </tbody>\n",
       "</table>\n",
       "</div>"
      ],
      "text/plain": [
       "   CustomerID        Name Location      Segment\n",
       "0        1001  Customer_0     East  Home Office\n",
       "1        1002  Customer_1     West  Home Office\n",
       "2        1003  Customer_2    North     Consumer\n",
       "3        1004  Customer_3     East     Consumer\n",
       "4        1005  Customer_4     East    Corporate"
      ]
     },
     "execution_count": 9,
     "metadata": {},
     "output_type": "execute_result"
    }
   ],
   "source": [
    "customers.head()"
   ]
  },
  {
   "cell_type": "markdown",
   "id": "68a885b0-7b2c-4cab-bc72-5114104831f2",
   "metadata": {},
   "source": [
    "**What is the total return rate?**"
   ]
  },
  {
   "cell_type": "code",
   "execution_count": 11,
   "id": "cf88ac5b-de4a-4f32-be36-82e03980abc4",
   "metadata": {},
   "outputs": [
    {
     "name": "stdout",
     "output_type": "stream",
     "text": [
      "Total Orders:1000\n",
      "Returned Orders : 100\n",
      "Return Rate : 10.00%\n"
     ]
    }
   ],
   "source": [
    "total_orders = orders['OrderID'].nunique() #Total number of orders\n",
    "returned_orders = returns['OrderID'].nunique() #Total number of returns\n",
    "return_rate = returned_orders/total_orders * 100\n",
    "\n",
    "print(f\"Total Orders:{total_orders}\") # Syntax = f\"some text {expression_or_variable}\n",
    "print(f\"Returned Orders : {returned_orders}\")\n",
    "print(f\"Return Rate : {return_rate:.2f}%\") #f : to start a formatted string and {return_rate:.2f} → inserts the value of return_rate, rounded to 2 decimal places\n"
   ]
  },
  {
   "cell_type": "markdown",
   "id": "af356472-6cbf-4dfe-902e-8e7211a5ce33",
   "metadata": {},
   "source": [
    "**Which products or categories have the highest return rate?**"
   ]
  },
  {
   "cell_type": "code",
   "execution_count": 13,
   "id": "c2a37e20-0e18-4508-a061-27a48f99af14",
   "metadata": {},
   "outputs": [],
   "source": [
    "orders['IsReturned'] = orders['OrderID'].isin(returns['OrderID'])"
   ]
  },
  {
   "cell_type": "markdown",
   "id": "04358e83-5f97-4984-b5f6-877d06e9952d",
   "metadata": {},
   "source": [
    "This line creates a new column in the orders DataFrame called IsReturned\n",
    "    It checks: “Is this order's OrderID present in the Returns.csv file?”\n",
    "    The result will be:\n",
    "        True if the order was returned\n",
    "        False if it wasn’t"
   ]
  },
  {
   "cell_type": "code",
   "execution_count": 15,
   "id": "db25fd1b-5f90-4156-98ea-5dedfc70608a",
   "metadata": {},
   "outputs": [
    {
     "data": {
      "text/html": [
       "<div>\n",
       "<style scoped>\n",
       "    .dataframe tbody tr th:only-of-type {\n",
       "        vertical-align: middle;\n",
       "    }\n",
       "\n",
       "    .dataframe tbody tr th {\n",
       "        vertical-align: top;\n",
       "    }\n",
       "\n",
       "    .dataframe thead th {\n",
       "        text-align: right;\n",
       "    }\n",
       "</style>\n",
       "<table border=\"1\" class=\"dataframe\">\n",
       "  <thead>\n",
       "    <tr style=\"text-align: right;\">\n",
       "      <th></th>\n",
       "      <th>OrderID</th>\n",
       "      <th>CustomerID</th>\n",
       "      <th>OrderDate</th>\n",
       "      <th>ProductID</th>\n",
       "      <th>Quantity</th>\n",
       "      <th>SalesAmount</th>\n",
       "      <th>IsReturned</th>\n",
       "    </tr>\n",
       "  </thead>\n",
       "  <tbody>\n",
       "    <tr>\n",
       "      <th>0</th>\n",
       "      <td>2001</td>\n",
       "      <td>1035</td>\n",
       "      <td>2023-02-16</td>\n",
       "      <td>539</td>\n",
       "      <td>2</td>\n",
       "      <td>412.64</td>\n",
       "      <td>False</td>\n",
       "    </tr>\n",
       "    <tr>\n",
       "      <th>1</th>\n",
       "      <td>2002</td>\n",
       "      <td>1081</td>\n",
       "      <td>2023-10-15</td>\n",
       "      <td>540</td>\n",
       "      <td>3</td>\n",
       "      <td>986.34</td>\n",
       "      <td>False</td>\n",
       "    </tr>\n",
       "    <tr>\n",
       "      <th>2</th>\n",
       "      <td>2003</td>\n",
       "      <td>1090</td>\n",
       "      <td>2023-09-23</td>\n",
       "      <td>517</td>\n",
       "      <td>3</td>\n",
       "      <td>742.80</td>\n",
       "      <td>False</td>\n",
       "    </tr>\n",
       "    <tr>\n",
       "      <th>3</th>\n",
       "      <td>2004</td>\n",
       "      <td>1008</td>\n",
       "      <td>2023-01-16</td>\n",
       "      <td>537</td>\n",
       "      <td>9</td>\n",
       "      <td>4241.79</td>\n",
       "      <td>False</td>\n",
       "    </tr>\n",
       "    <tr>\n",
       "      <th>4</th>\n",
       "      <td>2005</td>\n",
       "      <td>1093</td>\n",
       "      <td>2023-07-18</td>\n",
       "      <td>539</td>\n",
       "      <td>7</td>\n",
       "      <td>1444.24</td>\n",
       "      <td>False</td>\n",
       "    </tr>\n",
       "  </tbody>\n",
       "</table>\n",
       "</div>"
      ],
      "text/plain": [
       "   OrderID  CustomerID   OrderDate  ProductID  Quantity  SalesAmount  \\\n",
       "0     2001        1035  2023-02-16        539         2       412.64   \n",
       "1     2002        1081  2023-10-15        540         3       986.34   \n",
       "2     2003        1090  2023-09-23        517         3       742.80   \n",
       "3     2004        1008  2023-01-16        537         9      4241.79   \n",
       "4     2005        1093  2023-07-18        539         7      1444.24   \n",
       "\n",
       "   IsReturned  \n",
       "0       False  \n",
       "1       False  \n",
       "2       False  \n",
       "3       False  \n",
       "4       False  "
      ]
     },
     "execution_count": 15,
     "metadata": {},
     "output_type": "execute_result"
    }
   ],
   "source": [
    "orders.head()"
   ]
  },
  {
   "cell_type": "code",
   "execution_count": 16,
   "id": "80743559-552a-41b7-9c44-4b9f8213842c",
   "metadata": {},
   "outputs": [],
   "source": [
    "orders_with_products = orders.merge(products[['ProductID','Category','Subcategory']], on='ProductID')"
   ]
  },
  {
   "cell_type": "code",
   "execution_count": 17,
   "id": "ec3c50e4-4ef1-4636-9e6b-c3fab883a9e8",
   "metadata": {},
   "outputs": [
    {
     "data": {
      "text/html": [
       "<div>\n",
       "<style scoped>\n",
       "    .dataframe tbody tr th:only-of-type {\n",
       "        vertical-align: middle;\n",
       "    }\n",
       "\n",
       "    .dataframe tbody tr th {\n",
       "        vertical-align: top;\n",
       "    }\n",
       "\n",
       "    .dataframe thead th {\n",
       "        text-align: right;\n",
       "    }\n",
       "</style>\n",
       "<table border=\"1\" class=\"dataframe\">\n",
       "  <thead>\n",
       "    <tr style=\"text-align: right;\">\n",
       "      <th></th>\n",
       "      <th>OrderID</th>\n",
       "      <th>CustomerID</th>\n",
       "      <th>OrderDate</th>\n",
       "      <th>ProductID</th>\n",
       "      <th>Quantity</th>\n",
       "      <th>SalesAmount</th>\n",
       "      <th>IsReturned</th>\n",
       "      <th>Category</th>\n",
       "      <th>Subcategory</th>\n",
       "    </tr>\n",
       "  </thead>\n",
       "  <tbody>\n",
       "    <tr>\n",
       "      <th>0</th>\n",
       "      <td>2001</td>\n",
       "      <td>1035</td>\n",
       "      <td>2023-02-16</td>\n",
       "      <td>539</td>\n",
       "      <td>2</td>\n",
       "      <td>412.64</td>\n",
       "      <td>False</td>\n",
       "      <td>Technology</td>\n",
       "      <td>Tables</td>\n",
       "    </tr>\n",
       "    <tr>\n",
       "      <th>1</th>\n",
       "      <td>2002</td>\n",
       "      <td>1081</td>\n",
       "      <td>2023-10-15</td>\n",
       "      <td>540</td>\n",
       "      <td>3</td>\n",
       "      <td>986.34</td>\n",
       "      <td>False</td>\n",
       "      <td>Office Supplies</td>\n",
       "      <td>Binders</td>\n",
       "    </tr>\n",
       "    <tr>\n",
       "      <th>2</th>\n",
       "      <td>2003</td>\n",
       "      <td>1090</td>\n",
       "      <td>2023-09-23</td>\n",
       "      <td>517</td>\n",
       "      <td>3</td>\n",
       "      <td>742.80</td>\n",
       "      <td>False</td>\n",
       "      <td>Office Supplies</td>\n",
       "      <td>Tables</td>\n",
       "    </tr>\n",
       "    <tr>\n",
       "      <th>3</th>\n",
       "      <td>2004</td>\n",
       "      <td>1008</td>\n",
       "      <td>2023-01-16</td>\n",
       "      <td>537</td>\n",
       "      <td>9</td>\n",
       "      <td>4241.79</td>\n",
       "      <td>False</td>\n",
       "      <td>Furniture</td>\n",
       "      <td>Binders</td>\n",
       "    </tr>\n",
       "    <tr>\n",
       "      <th>4</th>\n",
       "      <td>2005</td>\n",
       "      <td>1093</td>\n",
       "      <td>2023-07-18</td>\n",
       "      <td>539</td>\n",
       "      <td>7</td>\n",
       "      <td>1444.24</td>\n",
       "      <td>False</td>\n",
       "      <td>Technology</td>\n",
       "      <td>Tables</td>\n",
       "    </tr>\n",
       "  </tbody>\n",
       "</table>\n",
       "</div>"
      ],
      "text/plain": [
       "   OrderID  CustomerID   OrderDate  ProductID  Quantity  SalesAmount  \\\n",
       "0     2001        1035  2023-02-16        539         2       412.64   \n",
       "1     2002        1081  2023-10-15        540         3       986.34   \n",
       "2     2003        1090  2023-09-23        517         3       742.80   \n",
       "3     2004        1008  2023-01-16        537         9      4241.79   \n",
       "4     2005        1093  2023-07-18        539         7      1444.24   \n",
       "\n",
       "   IsReturned         Category Subcategory  \n",
       "0       False       Technology      Tables  \n",
       "1       False  Office Supplies     Binders  \n",
       "2       False  Office Supplies      Tables  \n",
       "3       False        Furniture     Binders  \n",
       "4       False       Technology      Tables  "
      ]
     },
     "execution_count": 17,
     "metadata": {},
     "output_type": "execute_result"
    }
   ],
   "source": [
    "orders_with_products.head()"
   ]
  },
  {
   "cell_type": "markdown",
   "id": "1a785df0-1732-4421-8ae9-fc4ea02d84ca",
   "metadata": {},
   "source": [
    "Merge orders with products"
   ]
  },
  {
   "cell_type": "code",
   "execution_count": 19,
   "id": "7a4a3d36-264e-4777-8d13-ba53e2c3f87e",
   "metadata": {},
   "outputs": [],
   "source": [
    "category_stats = orders_with_products.groupby('Category').agg(TotalOrders=('OrderID','count'),ReturnedOrders=('IsReturned','sum'))"
   ]
  },
  {
   "cell_type": "code",
   "execution_count": 20,
   "id": "9ded9c11-db79-4726-9a46-9e6882ba7d62",
   "metadata": {},
   "outputs": [
    {
     "data": {
      "text/html": [
       "<div>\n",
       "<style scoped>\n",
       "    .dataframe tbody tr th:only-of-type {\n",
       "        vertical-align: middle;\n",
       "    }\n",
       "\n",
       "    .dataframe tbody tr th {\n",
       "        vertical-align: top;\n",
       "    }\n",
       "\n",
       "    .dataframe thead th {\n",
       "        text-align: right;\n",
       "    }\n",
       "</style>\n",
       "<table border=\"1\" class=\"dataframe\">\n",
       "  <thead>\n",
       "    <tr style=\"text-align: right;\">\n",
       "      <th></th>\n",
       "      <th>TotalOrders</th>\n",
       "      <th>ReturnedOrders</th>\n",
       "    </tr>\n",
       "    <tr>\n",
       "      <th>Category</th>\n",
       "      <th></th>\n",
       "      <th></th>\n",
       "    </tr>\n",
       "  </thead>\n",
       "  <tbody>\n",
       "    <tr>\n",
       "      <th>Furniture</th>\n",
       "      <td>298</td>\n",
       "      <td>26</td>\n",
       "    </tr>\n",
       "    <tr>\n",
       "      <th>Office Supplies</th>\n",
       "      <td>383</td>\n",
       "      <td>31</td>\n",
       "    </tr>\n",
       "    <tr>\n",
       "      <th>Technology</th>\n",
       "      <td>319</td>\n",
       "      <td>43</td>\n",
       "    </tr>\n",
       "  </tbody>\n",
       "</table>\n",
       "</div>"
      ],
      "text/plain": [
       "                 TotalOrders  ReturnedOrders\n",
       "Category                                    \n",
       "Furniture                298              26\n",
       "Office Supplies          383              31\n",
       "Technology               319              43"
      ]
     },
     "execution_count": 20,
     "metadata": {},
     "output_type": "execute_result"
    }
   ],
   "source": [
    "category_stats.head()"
   ]
  },
  {
   "cell_type": "code",
   "execution_count": 21,
   "id": "231ced61-31da-4179-bdb6-c6c7b1d72577",
   "metadata": {},
   "outputs": [
    {
     "name": "stdout",
     "output_type": "stream",
     "text": [
      "Return Rate by Category:\n",
      "                 TotalOrders  ReturnedOrders  ReturnRate (%)\n",
      "Category                                                    \n",
      "Technology               319              43           13.48\n",
      "Furniture                298              26            8.72\n",
      "Office Supplies          383              31            8.09\n"
     ]
    }
   ],
   "source": [
    "category_stats['ReturnRate (%)'] = (category_stats['ReturnedOrders']/category_stats['TotalOrders']) *100\n",
    "category_stats = category_stats.sort_values(by='ReturnRate (%)', ascending = False)\n",
    "\n",
    "print(\"Return Rate by Category:\")\n",
    "print(category_stats.round(2))"
   ]
  },
  {
   "cell_type": "markdown",
   "id": "bc18bfb1-7778-4c08-8852-aa690f27a49b",
   "metadata": {},
   "source": [
    "**What is the total revenue lost due to returns?**"
   ]
  },
  {
   "cell_type": "code",
   "execution_count": 23,
   "id": "e5528846-2b96-40b0-9c42-6635a94cfe83",
   "metadata": {},
   "outputs": [],
   "source": [
    "returned_orders = orders[orders['OrderID'].isin(returns['OrderID'])]"
   ]
  },
  {
   "cell_type": "markdown",
   "id": "94415251-dfcd-46cf-adc8-2f9cd83207b6",
   "metadata": {},
   "source": [
    "This line filters the orders DataFrame to only include the orders that exist in the returns file — i.e., the returned orders.\n",
    "The result is stored in a new DataFrame called returned_orders.\n",
    "\n",
    "🔹 returns['OrderID']\n",
    "\n",
    "This gives you a list (or Series) of all returned order IDs from the Returns.csv file.\n",
    "\n",
    "🔹 orders['OrderID'].isin(...)\n",
    "\n",
    "This checks:\n",
    "    For each order in the orders DataFrame, is its OrderID present in the returns['OrderID'] list?"
   ]
  },
  {
   "cell_type": "code",
   "execution_count": 25,
   "id": "e2664acd-996f-4c71-9d95-c0fbcc7630f7",
   "metadata": {},
   "outputs": [
    {
     "data": {
      "text/html": [
       "<div>\n",
       "<style scoped>\n",
       "    .dataframe tbody tr th:only-of-type {\n",
       "        vertical-align: middle;\n",
       "    }\n",
       "\n",
       "    .dataframe tbody tr th {\n",
       "        vertical-align: top;\n",
       "    }\n",
       "\n",
       "    .dataframe thead th {\n",
       "        text-align: right;\n",
       "    }\n",
       "</style>\n",
       "<table border=\"1\" class=\"dataframe\">\n",
       "  <thead>\n",
       "    <tr style=\"text-align: right;\">\n",
       "      <th></th>\n",
       "      <th>OrderID</th>\n",
       "      <th>CustomerID</th>\n",
       "      <th>OrderDate</th>\n",
       "      <th>ProductID</th>\n",
       "      <th>Quantity</th>\n",
       "      <th>SalesAmount</th>\n",
       "      <th>IsReturned</th>\n",
       "    </tr>\n",
       "  </thead>\n",
       "  <tbody>\n",
       "    <tr>\n",
       "      <th>8</th>\n",
       "      <td>2009</td>\n",
       "      <td>1115</td>\n",
       "      <td>2023-09-27</td>\n",
       "      <td>539</td>\n",
       "      <td>4</td>\n",
       "      <td>825.28</td>\n",
       "      <td>True</td>\n",
       "    </tr>\n",
       "    <tr>\n",
       "      <th>11</th>\n",
       "      <td>2012</td>\n",
       "      <td>1196</td>\n",
       "      <td>2023-01-07</td>\n",
       "      <td>535</td>\n",
       "      <td>7</td>\n",
       "      <td>229.11</td>\n",
       "      <td>True</td>\n",
       "    </tr>\n",
       "    <tr>\n",
       "      <th>14</th>\n",
       "      <td>2015</td>\n",
       "      <td>1075</td>\n",
       "      <td>2023-11-24</td>\n",
       "      <td>528</td>\n",
       "      <td>5</td>\n",
       "      <td>1602.05</td>\n",
       "      <td>True</td>\n",
       "    </tr>\n",
       "    <tr>\n",
       "      <th>22</th>\n",
       "      <td>2023</td>\n",
       "      <td>1152</td>\n",
       "      <td>2023-06-08</td>\n",
       "      <td>527</td>\n",
       "      <td>3</td>\n",
       "      <td>599.43</td>\n",
       "      <td>True</td>\n",
       "    </tr>\n",
       "    <tr>\n",
       "      <th>32</th>\n",
       "      <td>2033</td>\n",
       "      <td>1012</td>\n",
       "      <td>2023-12-30</td>\n",
       "      <td>513</td>\n",
       "      <td>8</td>\n",
       "      <td>336.64</td>\n",
       "      <td>True</td>\n",
       "    </tr>\n",
       "  </tbody>\n",
       "</table>\n",
       "</div>"
      ],
      "text/plain": [
       "    OrderID  CustomerID   OrderDate  ProductID  Quantity  SalesAmount  \\\n",
       "8      2009        1115  2023-09-27        539         4       825.28   \n",
       "11     2012        1196  2023-01-07        535         7       229.11   \n",
       "14     2015        1075  2023-11-24        528         5      1602.05   \n",
       "22     2023        1152  2023-06-08        527         3       599.43   \n",
       "32     2033        1012  2023-12-30        513         8       336.64   \n",
       "\n",
       "    IsReturned  \n",
       "8         True  \n",
       "11        True  \n",
       "14        True  \n",
       "22        True  \n",
       "32        True  "
      ]
     },
     "execution_count": 25,
     "metadata": {},
     "output_type": "execute_result"
    }
   ],
   "source": [
    "returned_orders.head()"
   ]
  },
  {
   "cell_type": "code",
   "execution_count": 26,
   "id": "1032bbfe-0e7b-49c7-8d35-fbf43d940b14",
   "metadata": {},
   "outputs": [],
   "source": [
    "revenue_lost = returned_orders['SalesAmount'].sum()"
   ]
  },
  {
   "cell_type": "code",
   "execution_count": 27,
   "id": "293d4baa-9ec7-480f-9264-1877d02366d8",
   "metadata": {},
   "outputs": [
    {
     "name": "stdout",
     "output_type": "stream",
     "text": [
      "Total revenue lost Due to Returns: 128,179.07\n"
     ]
    }
   ],
   "source": [
    "print(f\"Total revenue lost Due to Returns: {revenue_lost:,.2f}\")"
   ]
  },
  {
   "cell_type": "markdown",
   "id": "385701e2-d17d-4fa9-8093-0bbed9e34e0c",
   "metadata": {},
   "source": [
    "**Which customer segments return products the most?**"
   ]
  },
  {
   "cell_type": "code",
   "execution_count": 29,
   "id": "9eb874d6-f5b1-4d4c-bd3b-7b69ae69528d",
   "metadata": {},
   "outputs": [],
   "source": [
    "orders['IsReturned'] = orders['OrderID'].isin(returns['OrderID'])"
   ]
  },
  {
   "cell_type": "code",
   "execution_count": 30,
   "id": "32b5f755-1dcf-4534-a64a-2c3bcfdc59b2",
   "metadata": {},
   "outputs": [
    {
     "data": {
      "text/html": [
       "<div>\n",
       "<style scoped>\n",
       "    .dataframe tbody tr th:only-of-type {\n",
       "        vertical-align: middle;\n",
       "    }\n",
       "\n",
       "    .dataframe tbody tr th {\n",
       "        vertical-align: top;\n",
       "    }\n",
       "\n",
       "    .dataframe thead th {\n",
       "        text-align: right;\n",
       "    }\n",
       "</style>\n",
       "<table border=\"1\" class=\"dataframe\">\n",
       "  <thead>\n",
       "    <tr style=\"text-align: right;\">\n",
       "      <th></th>\n",
       "      <th>OrderID</th>\n",
       "      <th>CustomerID</th>\n",
       "      <th>OrderDate</th>\n",
       "      <th>ProductID</th>\n",
       "      <th>Quantity</th>\n",
       "      <th>SalesAmount</th>\n",
       "      <th>IsReturned</th>\n",
       "    </tr>\n",
       "  </thead>\n",
       "  <tbody>\n",
       "    <tr>\n",
       "      <th>0</th>\n",
       "      <td>2001</td>\n",
       "      <td>1035</td>\n",
       "      <td>2023-02-16</td>\n",
       "      <td>539</td>\n",
       "      <td>2</td>\n",
       "      <td>412.64</td>\n",
       "      <td>False</td>\n",
       "    </tr>\n",
       "    <tr>\n",
       "      <th>1</th>\n",
       "      <td>2002</td>\n",
       "      <td>1081</td>\n",
       "      <td>2023-10-15</td>\n",
       "      <td>540</td>\n",
       "      <td>3</td>\n",
       "      <td>986.34</td>\n",
       "      <td>False</td>\n",
       "    </tr>\n",
       "    <tr>\n",
       "      <th>2</th>\n",
       "      <td>2003</td>\n",
       "      <td>1090</td>\n",
       "      <td>2023-09-23</td>\n",
       "      <td>517</td>\n",
       "      <td>3</td>\n",
       "      <td>742.80</td>\n",
       "      <td>False</td>\n",
       "    </tr>\n",
       "    <tr>\n",
       "      <th>3</th>\n",
       "      <td>2004</td>\n",
       "      <td>1008</td>\n",
       "      <td>2023-01-16</td>\n",
       "      <td>537</td>\n",
       "      <td>9</td>\n",
       "      <td>4241.79</td>\n",
       "      <td>False</td>\n",
       "    </tr>\n",
       "    <tr>\n",
       "      <th>4</th>\n",
       "      <td>2005</td>\n",
       "      <td>1093</td>\n",
       "      <td>2023-07-18</td>\n",
       "      <td>539</td>\n",
       "      <td>7</td>\n",
       "      <td>1444.24</td>\n",
       "      <td>False</td>\n",
       "    </tr>\n",
       "  </tbody>\n",
       "</table>\n",
       "</div>"
      ],
      "text/plain": [
       "   OrderID  CustomerID   OrderDate  ProductID  Quantity  SalesAmount  \\\n",
       "0     2001        1035  2023-02-16        539         2       412.64   \n",
       "1     2002        1081  2023-10-15        540         3       986.34   \n",
       "2     2003        1090  2023-09-23        517         3       742.80   \n",
       "3     2004        1008  2023-01-16        537         9      4241.79   \n",
       "4     2005        1093  2023-07-18        539         7      1444.24   \n",
       "\n",
       "   IsReturned  \n",
       "0       False  \n",
       "1       False  \n",
       "2       False  \n",
       "3       False  \n",
       "4       False  "
      ]
     },
     "execution_count": 30,
     "metadata": {},
     "output_type": "execute_result"
    }
   ],
   "source": [
    "orders.head()"
   ]
  },
  {
   "cell_type": "code",
   "execution_count": 31,
   "id": "117f10c4-8567-42e8-b273-fc495f4f2e98",
   "metadata": {},
   "outputs": [],
   "source": [
    "order_with_segment = orders.merge(customers[['CustomerID','Segment']], on='CustomerID')"
   ]
  },
  {
   "cell_type": "code",
   "execution_count": 32,
   "id": "5b860808-cf80-4464-b08a-a11c643ea8f2",
   "metadata": {},
   "outputs": [
    {
     "data": {
      "text/html": [
       "<div>\n",
       "<style scoped>\n",
       "    .dataframe tbody tr th:only-of-type {\n",
       "        vertical-align: middle;\n",
       "    }\n",
       "\n",
       "    .dataframe tbody tr th {\n",
       "        vertical-align: top;\n",
       "    }\n",
       "\n",
       "    .dataframe thead th {\n",
       "        text-align: right;\n",
       "    }\n",
       "</style>\n",
       "<table border=\"1\" class=\"dataframe\">\n",
       "  <thead>\n",
       "    <tr style=\"text-align: right;\">\n",
       "      <th></th>\n",
       "      <th>OrderID</th>\n",
       "      <th>CustomerID</th>\n",
       "      <th>OrderDate</th>\n",
       "      <th>ProductID</th>\n",
       "      <th>Quantity</th>\n",
       "      <th>SalesAmount</th>\n",
       "      <th>IsReturned</th>\n",
       "      <th>Segment</th>\n",
       "    </tr>\n",
       "  </thead>\n",
       "  <tbody>\n",
       "    <tr>\n",
       "      <th>0</th>\n",
       "      <td>2001</td>\n",
       "      <td>1035</td>\n",
       "      <td>2023-02-16</td>\n",
       "      <td>539</td>\n",
       "      <td>2</td>\n",
       "      <td>412.64</td>\n",
       "      <td>False</td>\n",
       "      <td>Consumer</td>\n",
       "    </tr>\n",
       "    <tr>\n",
       "      <th>1</th>\n",
       "      <td>2002</td>\n",
       "      <td>1081</td>\n",
       "      <td>2023-10-15</td>\n",
       "      <td>540</td>\n",
       "      <td>3</td>\n",
       "      <td>986.34</td>\n",
       "      <td>False</td>\n",
       "      <td>Corporate</td>\n",
       "    </tr>\n",
       "    <tr>\n",
       "      <th>2</th>\n",
       "      <td>2003</td>\n",
       "      <td>1090</td>\n",
       "      <td>2023-09-23</td>\n",
       "      <td>517</td>\n",
       "      <td>3</td>\n",
       "      <td>742.80</td>\n",
       "      <td>False</td>\n",
       "      <td>Corporate</td>\n",
       "    </tr>\n",
       "    <tr>\n",
       "      <th>3</th>\n",
       "      <td>2004</td>\n",
       "      <td>1008</td>\n",
       "      <td>2023-01-16</td>\n",
       "      <td>537</td>\n",
       "      <td>9</td>\n",
       "      <td>4241.79</td>\n",
       "      <td>False</td>\n",
       "      <td>Home Office</td>\n",
       "    </tr>\n",
       "    <tr>\n",
       "      <th>4</th>\n",
       "      <td>2005</td>\n",
       "      <td>1093</td>\n",
       "      <td>2023-07-18</td>\n",
       "      <td>539</td>\n",
       "      <td>7</td>\n",
       "      <td>1444.24</td>\n",
       "      <td>False</td>\n",
       "      <td>Home Office</td>\n",
       "    </tr>\n",
       "  </tbody>\n",
       "</table>\n",
       "</div>"
      ],
      "text/plain": [
       "   OrderID  CustomerID   OrderDate  ProductID  Quantity  SalesAmount  \\\n",
       "0     2001        1035  2023-02-16        539         2       412.64   \n",
       "1     2002        1081  2023-10-15        540         3       986.34   \n",
       "2     2003        1090  2023-09-23        517         3       742.80   \n",
       "3     2004        1008  2023-01-16        537         9      4241.79   \n",
       "4     2005        1093  2023-07-18        539         7      1444.24   \n",
       "\n",
       "   IsReturned      Segment  \n",
       "0       False     Consumer  \n",
       "1       False    Corporate  \n",
       "2       False    Corporate  \n",
       "3       False  Home Office  \n",
       "4       False  Home Office  "
      ]
     },
     "execution_count": 32,
     "metadata": {},
     "output_type": "execute_result"
    }
   ],
   "source": [
    "order_with_segment.head()"
   ]
  },
  {
   "cell_type": "code",
   "execution_count": 33,
   "id": "2042c86f-43b3-4dfd-8cb0-42b0e6c964ac",
   "metadata": {},
   "outputs": [],
   "source": [
    "segment_return = order_with_segment.groupby('Segment')['IsReturned'].sum().sort_values(ascending=False)"
   ]
  },
  {
   "cell_type": "code",
   "execution_count": 34,
   "id": "6407b44e-511a-42a2-ac47-52cc1a0c3e3e",
   "metadata": {},
   "outputs": [
    {
     "name": "stdout",
     "output_type": "stream",
     "text": [
      "Returned Orders by Customer Segment:\n",
      "Segment\n",
      "Consumer       36\n",
      "Corporate      35\n",
      "Home Office    29\n",
      "Name: IsReturned, dtype: int64\n"
     ]
    }
   ],
   "source": [
    "print('Returned Orders by Customer Segment:')\n",
    "print(segment_return)"
   ]
  },
  {
   "cell_type": "markdown",
   "id": "537d775f-83f9-4f22-84f6-bb34135eb415",
   "metadata": {},
   "source": [
    "*This shows that \"Consumer\" segment had the most returns*"
   ]
  },
  {
   "cell_type": "markdown",
   "id": "7ff21961-4ca4-414f-b361-5986b51048a9",
   "metadata": {},
   "source": [
    "**What is the net profit (sales-returns) by region?**"
   ]
  },
  {
   "cell_type": "code",
   "execution_count": 37,
   "id": "8744fb0d-8041-4c89-a467-25e800c72574",
   "metadata": {},
   "outputs": [],
   "source": [
    "orders['IsReturned'] = orders['OrderID'].isin(returns['OrderID'])\n",
    "orders_with_region = orders.merge(customers[['CustomerID','Location']], on='CustomerID')\n",
    "\n",
    "region_stats = orders_with_region.groupby('Location').agg(\n",
    "    TotalSales = ('SalesAmount','sum'),\n",
    "    ReturnSales = ('SalesAmount', lambda x: x[orders_with_region.loc[x.index, 'IsReturned']].sum())\n",
    ")"
   ]
  },
  {
   "cell_type": "markdown",
   "id": "968bdcd2-609a-4952-b052-15222c37caae",
   "metadata": {},
   "source": [
    "What Each Part Does:\n",
    "\n",
    "🧩 x\n",
    "\n",
    "This is the SalesAmount column for the current group (e.g., all sales from the South region)\n",
    "\n",
    "🧩 x.index\n",
    "\n",
    "The row indices (row numbers) for this region's subset of data.\n",
    "\n",
    "🧩 orders_with_region.loc[x.index, 'IsReturned']\n",
    "\n",
    "This fetches the IsReturned values (True or False) for just those rows in this group.\n",
    "\n",
    "🧩 x[ ... ]\n",
    "\n",
    "We then filter the SalesAmount values where IsReturned == True.\n",
    "\n",
    "🧩 .sum()\n",
    "\n",
    "Adds up the filtered sales amounts — giving us total return sales for that region."
   ]
  },
  {
   "cell_type": "code",
   "execution_count": 39,
   "id": "bc392fba-7286-4383-9377-0ec75760d502",
   "metadata": {},
   "outputs": [],
   "source": [
    "region_stats['NetProfit'] = region_stats['TotalSales'] - region_stats['ReturnSales']"
   ]
  },
  {
   "cell_type": "code",
   "execution_count": 40,
   "id": "1d60ace6-0e6a-4baf-95af-516567b9fc2b",
   "metadata": {},
   "outputs": [],
   "source": [
    "region_stats = region_stats.round(2)"
   ]
  },
  {
   "cell_type": "code",
   "execution_count": 41,
   "id": "6c05a4ed-783a-40c0-b8e6-a19b6205a50b",
   "metadata": {},
   "outputs": [
    {
     "name": "stdout",
     "output_type": "stream",
     "text": [
      "Netprofit by region:\n",
      "          TotalSales  ReturnSales  NetProfit\n",
      "Location                                    \n",
      "East       331359.01     38900.95  292458.06\n",
      "North      263631.59     30186.46  233445.13\n",
      "South      246551.45     17159.21  229392.24\n",
      "West       313573.95     41932.45  271641.50\n"
     ]
    }
   ],
   "source": [
    "print(f\"Netprofit by region:\")\n",
    "print(region_stats)"
   ]
  },
  {
   "cell_type": "code",
   "execution_count": 42,
   "id": "05db8684-67bb-493a-9dc8-f61ed987de14",
   "metadata": {},
   "outputs": [],
   "source": [
    "import matplotlib.pyplot as plt"
   ]
  },
  {
   "cell_type": "code",
   "execution_count": 43,
   "id": "49d0606c-23ad-4afe-90cc-2fd19976dd82",
   "metadata": {},
   "outputs": [
    {
     "data": {
      "image/png": "[encoded data removed]",
      "text/plain": [
       "<Figure size 1000x600 with 1 Axes>"
      ]
     },
     "metadata": {},
     "output_type": "display_data"
    }
   ],
   "source": [
    "plt.figure(figsize=(10,6))\n",
    "region_stats.sort_values('NetProfit',ascending=True)['NetProfit'].plot(\n",
    "    kind='barh',color='seagreen', edgecolor = 'black'\n",
    ")\n",
    "\n",
    "plt.title ('Net Profit by region', fontsize = 14)\n",
    "plt.xlabel('Net Profit ($)', fontsize = 12)\n",
    "plt.ylabel('Region', fontsize = 12)\n",
    "plt.grid(axis='x', linestyle = '--', alpha = 0.5)\n",
    "plt.tight_layout()\n",
    "plt.show()"
   ]
  },
  {
   "cell_type": "markdown",
   "id": "a8d367a2-8bf7-41b1-b066-9cb06f135151",
   "metadata": {},
   "source": [
    "**Are high-return customers also the top spenders ?**"
   ]
  },
  {
   "cell_type": "markdown",
   "id": "82cf041d-b79c-41ab-ad70-5b62f417ca60",
   "metadata": {},
   "source": [
    "Logic : Compare customers with the highest number of returns vs customers who spent the most overall."
   ]
  },
  {
   "cell_type": "code",
   "execution_count": 46,
   "id": "293f1192-67ab-4536-adf1-c68ed2d189f9",
   "metadata": {},
   "outputs": [],
   "source": [
    "orders['IsReturned'] = orders['OrderID'].isin(returns['OrderID'])\n",
    "total_spent = orders.groupby('CustomerID')['SalesAmount'].sum().rename('TotalSpent')\n",
    "returns_count = orders.groupby('CustomerID')['IsReturned'].sum().rename('NumReturns')\n",
    "customer_stats = pd.concat([total_spent, returns_count], axis =1)"
   ]
  },
  {
   "cell_type": "code",
   "execution_count": 47,
   "id": "dd7d16b1-62c9-456e-bce9-825410f88c5f",
   "metadata": {},
   "outputs": [
    {
     "name": "stdout",
     "output_type": "stream",
     "text": [
      "            TotalSpent  NumReturns\n",
      "CustomerID                        \n",
      "1001          10238.57           2\n",
      "1002           2666.07           0\n",
      "1003           5464.79           0\n",
      "1004           3146.21           0\n",
      "1005          13493.26           0\n",
      "...                ...         ...\n",
      "1196           2413.08           2\n",
      "1197           3028.19           0\n",
      "1198           9290.75           0\n",
      "1199           3517.95           0\n",
      "1200           5973.82           0\n",
      "\n",
      "[199 rows x 2 columns]\n"
     ]
    }
   ],
   "source": [
    "print(customer_stats)"
   ]
  },
  {
   "cell_type": "code",
   "execution_count": 48,
   "id": "61fcac5b-9040-4707-bbe8-16397fa15374",
   "metadata": {},
   "outputs": [],
   "source": [
    "customer_stats['ReturnRate (%)'] = (customer_stats['NumReturns']/orders.groupby('CustomerID')['OrderID'].count())*100"
   ]
  },
  {
   "cell_type": "code",
   "execution_count": 49,
   "id": "21d82351-d04d-4a3f-bb2f-52482aa76889",
   "metadata": {},
   "outputs": [
    {
     "name": "stdout",
     "output_type": "stream",
     "text": [
      "            TotalSpent  NumReturns  ReturnRate (%)\n",
      "CustomerID                                        \n",
      "1001          10238.57           2       18.181818\n",
      "1002           2666.07           0        0.000000\n",
      "1003           5464.79           0        0.000000\n",
      "1004           3146.21           0        0.000000\n",
      "1005          13493.26           0        0.000000\n",
      "...                ...         ...             ...\n",
      "1196           2413.08           2       66.666667\n",
      "1197           3028.19           0        0.000000\n",
      "1198           9290.75           0        0.000000\n",
      "1199           3517.95           0        0.000000\n",
      "1200           5973.82           0        0.000000\n",
      "\n",
      "[199 rows x 3 columns]\n"
     ]
    }
   ],
   "source": [
    "print(customer_stats)"
   ]
  },
  {
   "cell_type": "code",
   "execution_count": 50,
   "id": "e112ef08-2750-4967-8db3-045614313d22",
   "metadata": {},
   "outputs": [],
   "source": [
    "top_spenders = customer_stats.sort_values(by='TotalSpent',ascending=False).head(10)\n",
    "top_returns = customer_stats.sort_values(by=\"NumReturns\",ascending=False).head(10)"
   ]
  },
  {
   "cell_type": "code",
   "execution_count": 51,
   "id": "61a1f35d-ac18-4ab0-8f82-c2062e1174c0",
   "metadata": {},
   "outputs": [
    {
     "name": "stdout",
     "output_type": "stream",
     "text": [
      "Top 10 Customers by Total Spend:\n",
      "            TotalSpent  NumReturns  ReturnRate (%)\n",
      "CustomerID                                        \n",
      "1109          19874.17           0        0.000000\n",
      "1047          16478.96           2       16.666667\n",
      "1008          15953.72           0        0.000000\n",
      "1042          15019.73           1       16.666667\n",
      "1111          14174.10           1       11.111111\n",
      "1086          14016.42           0        0.000000\n",
      "1005          13493.26           0        0.000000\n",
      "1179          13093.62           1        8.333333\n",
      "1017          12758.83           3       37.500000\n",
      "1038          12686.49           0        0.000000\n"
     ]
    }
   ],
   "source": [
    "print(\"Top 10 Customers by Total Spend:\")\n",
    "print(top_spenders)"
   ]
  },
  {
   "cell_type": "code",
   "execution_count": 52,
   "id": "843cc943-2215-44ac-8f22-fdcbf14b5b61",
   "metadata": {},
   "outputs": [
    {
     "name": "stdout",
     "output_type": "stream",
     "text": [
      "Top 10 customers by Number of Returns:\n",
      "            TotalSpent  NumReturns  ReturnRate (%)\n",
      "CustomerID                                        \n",
      "1115          11150.48           3       30.000000\n",
      "1006           6737.46           3       75.000000\n",
      "1113           9042.52           3       30.000000\n",
      "1017          12758.83           3       37.500000\n",
      "1046           6803.85           2       33.333333\n",
      "1047          16478.96           2       16.666667\n",
      "1067           5737.87           2       50.000000\n",
      "1075           7301.27           2       28.571429\n",
      "1190           7628.80           2       28.571429\n",
      "1166           9156.85           2       25.000000\n"
     ]
    }
   ],
   "source": [
    "print(\"Top 10 customers by Number of Returns:\")\n",
    "print(top_returns)"
   ]
  },
  {
   "cell_type": "code",
   "execution_count": 53,
   "id": "11e0ce37-0a05-4915-8436-f2ec3448ec41",
   "metadata": {},
   "outputs": [
    {
     "data": {
      "image/png": "[encoded data removed]",
      "text/plain": [
       "<Figure size 1000x600 with 1 Axes>"
      ]
     },
     "metadata": {},
     "output_type": "display_data"
    }
   ],
   "source": [
    "plt.figure(figsize=(10,6))\n",
    "plt.scatter(customer_stats['TotalSpent'], customer_stats['NumReturns'],\n",
    "            c = 'royalblue', alpha = 0.6, edgecolors = 'black')\n",
    "plt.title('Returns vs Total Spend per customer', fontsize = 14)\n",
    "plt.xlabel('Total Spent', fontsize = 12)\n",
    "plt.ylabel('Number of Returns', fontsize = 12)\n",
    "plt.grid(True, linestyle='--',alpha=0.5)\n",
    "plt.tight_layout()\n",
    "plt.show()"
   ]
  },
  {
   "cell_type": "markdown",
   "id": "eced209c-7d5e-4610-aae8-c1abbf84c5be",
   "metadata": {},
   "source": [
    "Points far right = high spenders\n",
    "\n",
    "Points high up = many returns\n",
    "\n",
    "Bottom-right corner = best customers: big spenders, low returners \n",
    "\n",
    "Top-left corner = worst customers: return a lot, spend little "
   ]
  }
 ],
 "metadata": {
  "kernelspec": {
   "display_name": "Python 3 (ipykernel)",
   "language": "python",
   "name": "python3"
  },
  "language_info": {
   "codemirror_mode": {
    "name": "ipython",
    "version": 3
   },
   "file_extension": ".py",
   "mimetype": "text/x-python",
   "name": "python",
   "nbconvert_exporter": "python",
   "pygments_lexer": "ipython3",
   "version": "3.12.7"
  }
 },
 "nbformat": 4,
 "nbformat_minor": 5
}
